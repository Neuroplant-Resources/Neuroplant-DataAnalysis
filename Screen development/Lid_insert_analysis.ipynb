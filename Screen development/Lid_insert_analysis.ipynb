{
 "cells": [
  {
   "cell_type": "code",
   "execution_count": 46,
   "id": "67528b6a",
   "metadata": {},
   "outputs": [],
   "source": [
    "import pandas as pd\n",
    "import numpy as np\n",
    "import matplotlib.pyplot as plt\n",
    "import pathlib as plb\n",
    "import seaborn as sns\n",
    "from scipy import stats\n",
    "import statistics\n",
    "import dabest as db"
   ]
  },
  {
   "cell_type": "code",
   "execution_count": 47,
   "id": "684031df",
   "metadata": {},
   "outputs": [
    {
     "data": {
      "text/html": [
       "<div>\n",
       "<style scoped>\n",
       "    .dataframe tbody tr th:only-of-type {\n",
       "        vertical-align: middle;\n",
       "    }\n",
       "\n",
       "    .dataframe tbody tr th {\n",
       "        vertical-align: top;\n",
       "    }\n",
       "\n",
       "    .dataframe thead th {\n",
       "        text-align: right;\n",
       "    }\n",
       "</style>\n",
       "<table border=\"1\" class=\"dataframe\">\n",
       "  <thead>\n",
       "    <tr style=\"text-align: right;\">\n",
       "      <th></th>\n",
       "      <th>Well ID</th>\n",
       "      <th>WellNo</th>\n",
       "      <th>area</th>\n",
       "      <th>Total Worms</th>\n",
       "      <th>Chemotaxis</th>\n",
       "      <th>Original Compound</th>\n",
       "      <th>Plate condition</th>\n",
       "      <th>Compound</th>\n",
       "      <th>Strain</th>\n",
       "      <th>File Name</th>\n",
       "      <th>Well width</th>\n",
       "      <th>Plate ID</th>\n",
       "      <th>Passes QC</th>\n",
       "    </tr>\n",
       "    <tr>\n",
       "      <th>Record ID</th>\n",
       "      <th></th>\n",
       "      <th></th>\n",
       "      <th></th>\n",
       "      <th></th>\n",
       "      <th></th>\n",
       "      <th></th>\n",
       "      <th></th>\n",
       "      <th></th>\n",
       "      <th></th>\n",
       "      <th></th>\n",
       "      <th></th>\n",
       "      <th></th>\n",
       "      <th></th>\n",
       "    </tr>\n",
       "  </thead>\n",
       "  <tbody>\n",
       "    <tr>\n",
       "      <th>1</th>\n",
       "      <td>0</td>\n",
       "      <td>1A</td>\n",
       "      <td>2267862</td>\n",
       "      <td>206</td>\n",
       "      <td>0.549738</td>\n",
       "      <td>DMSO</td>\n",
       "      <td>no ins</td>\n",
       "      <td>DMSO_oIA_0</td>\n",
       "      <td>N2</td>\n",
       "      <td>CT01_Scan001</td>\n",
       "      <td>3033</td>\n",
       "      <td>CT01_P01</td>\n",
       "      <td>Y</td>\n",
       "    </tr>\n",
       "    <tr>\n",
       "      <th>2</th>\n",
       "      <td>1</td>\n",
       "      <td>1B</td>\n",
       "      <td>2280405</td>\n",
       "      <td>182</td>\n",
       "      <td>0.730061</td>\n",
       "      <td>IAA</td>\n",
       "      <td>no ins</td>\n",
       "      <td>IAA_i_0</td>\n",
       "      <td>N2</td>\n",
       "      <td>CT01_Scan001</td>\n",
       "      <td>3033</td>\n",
       "      <td>CT01_P01</td>\n",
       "      <td>Y</td>\n",
       "    </tr>\n",
       "    <tr>\n",
       "      <th>3</th>\n",
       "      <td>2</td>\n",
       "      <td>1C</td>\n",
       "      <td>2260545</td>\n",
       "      <td>239</td>\n",
       "      <td>-0.333333</td>\n",
       "      <td>OCT</td>\n",
       "      <td>no ins</td>\n",
       "      <td>OCT_i_0</td>\n",
       "      <td>N2</td>\n",
       "      <td>CT01_Scan001</td>\n",
       "      <td>3054</td>\n",
       "      <td>CT01_P01</td>\n",
       "      <td>Y</td>\n",
       "    </tr>\n",
       "    <tr>\n",
       "      <th>4</th>\n",
       "      <td>3</td>\n",
       "      <td>1D</td>\n",
       "      <td>2251974</td>\n",
       "      <td>337</td>\n",
       "      <td>-0.028939</td>\n",
       "      <td>DMSO</td>\n",
       "      <td>no ins</td>\n",
       "      <td>DMSO_oO_0</td>\n",
       "      <td>N2</td>\n",
       "      <td>CT01_Scan001</td>\n",
       "      <td>3040</td>\n",
       "      <td>CT01_P01</td>\n",
       "      <td>Y</td>\n",
       "    </tr>\n",
       "    <tr>\n",
       "      <th>5</th>\n",
       "      <td>4</td>\n",
       "      <td>2A</td>\n",
       "      <td>2273539</td>\n",
       "      <td>286</td>\n",
       "      <td>0.145098</td>\n",
       "      <td>DMSO</td>\n",
       "      <td>ins</td>\n",
       "      <td>DMSO_oIA_1</td>\n",
       "      <td>N2</td>\n",
       "      <td>CT01_Scan001</td>\n",
       "      <td>3051</td>\n",
       "      <td>CT01_P02</td>\n",
       "      <td>Y</td>\n",
       "    </tr>\n",
       "  </tbody>\n",
       "</table>\n",
       "</div>"
      ],
      "text/plain": [
       "           Well ID WellNo     area  Total Worms  Chemotaxis Original Compound  \\\n",
       "Record ID                                                                       \n",
       "1                0     1A  2267862          206    0.549738              DMSO   \n",
       "2                1     1B  2280405          182    0.730061               IAA   \n",
       "3                2     1C  2260545          239   -0.333333               OCT   \n",
       "4                3     1D  2251974          337   -0.028939              DMSO   \n",
       "5                4     2A  2273539          286    0.145098              DMSO   \n",
       "\n",
       "          Plate condition    Compound Strain     File Name  Well width  \\\n",
       "Record ID                                                                \n",
       "1                  no ins  DMSO_oIA_0     N2  CT01_Scan001        3033   \n",
       "2                  no ins     IAA_i_0     N2  CT01_Scan001        3033   \n",
       "3                  no ins     OCT_i_0     N2  CT01_Scan001        3054   \n",
       "4                  no ins   DMSO_oO_0     N2  CT01_Scan001        3040   \n",
       "5                     ins  DMSO_oIA_1     N2  CT01_Scan001        3051   \n",
       "\n",
       "           Plate ID Passes QC  \n",
       "Record ID                      \n",
       "1          CT01_P01         Y  \n",
       "2          CT01_P01         Y  \n",
       "3          CT01_P01         Y  \n",
       "4          CT01_P01         Y  \n",
       "5          CT01_P02         Y  "
      ]
     },
     "execution_count": 47,
     "metadata": {},
     "output_type": "execute_result"
    }
   ],
   "source": [
    "insert_data = pd.read_csv('/Users/Emily/Desktop/Lid_inserts/OWL_Output/CT_Summary_Partial_TL.csv', index_col=0)\n",
    "insert_data.head()"
   ]
  },
  {
   "cell_type": "code",
   "execution_count": 48,
   "id": "fe1e7ebb",
   "metadata": {},
   "outputs": [
    {
     "data": {
      "text/plain": [
       "['DMSO_oIA_0',\n",
       " 'IAA_i_0',\n",
       " 'OCT_i_0',\n",
       " 'DMSO_oO_0',\n",
       " 'DMSO_oIA_1',\n",
       " 'IAA_i_1',\n",
       " 'OCT_i_1',\n",
       " 'DMSO_oO_1',\n",
       " 'IAA_o_0',\n",
       " 'DMSO_iIA_0',\n",
       " 'DMSO_iO_0',\n",
       " 'OCT_o_0',\n",
       " 'IAA_o_1',\n",
       " 'DMSO_iIA_1',\n",
       " 'DMSO_iO_1',\n",
       " 'OCT_o_1']"
      ]
     },
     "execution_count": 48,
     "metadata": {},
     "output_type": "execute_result"
    }
   ],
   "source": [
    "comps = list(insert_data['Compound'].unique())\n",
    "comps"
   ]
  },
  {
   "cell_type": "code",
   "execution_count": 49,
   "id": "a01883d0",
   "metadata": {},
   "outputs": [
    {
     "name": "stdout",
     "output_type": "stream",
     "text": [
      "16\n",
      "32\n"
     ]
    }
   ],
   "source": [
    "print(len(comps))\n",
    "print(len(insert_data))"
   ]
  },
  {
   "cell_type": "code",
   "execution_count": 50,
   "id": "5d0954e4",
   "metadata": {},
   "outputs": [],
   "source": [
    "wrm_locs_fldr = plb.Path('/Users/Emily/Desktop/Lid_inserts/OWL_Output/')"
   ]
  },
  {
   "cell_type": "code",
   "execution_count": 51,
   "id": "351fd390",
   "metadata": {},
   "outputs": [],
   "source": [
    "def get_worm_locs(row, wrms, result_dict): \n",
    "\n",
    "    fname = row['File Name']\n",
    "    wellnum = row['WellNo']\n",
    "    compound = row['Compound']\n",
    "\n",
    "    loc_fname =  wrms.joinpath('loc_' + fname + '_' + wellnum + '.csv')\n",
    "\n",
    "    temp = pd.read_csv(loc_fname)\n",
    "    xs = temp['X']\n",
    "    #xs = list(temp['centroid-1'])\n",
    "    if compound in result_dict:\n",
    "        result_dict[compound] = result_dict[compound].append(xs)\n",
    "        result_dict[compound].reset_index(inplace=True, drop=True)\n",
    "        #result_dict[compound] = result_dict[compound]+xs\n",
    "    else:\n",
    "        result_dict[compound]=xs\n",
    "\n",
    "    return result_dict\n"
   ]
  },
  {
   "cell_type": "code",
   "execution_count": 52,
   "id": "31e0016a",
   "metadata": {},
   "outputs": [],
   "source": [
    "#conversion factors for dpi to mm\n",
    "# 1 inch = 25.4mm\n",
    "mm = 25.4\n",
    "# 1200 pixels per 25.4mm\n",
    "px_mm = 1200/mm"
   ]
  },
  {
   "cell_type": "code",
   "execution_count": 57,
   "id": "4014dc62",
   "metadata": {},
   "outputs": [],
   "source": [
    "results_dict = {}\n",
    "#mean_df = pd.DataFrame(columns=['Condition', 'MeanPos'])\n",
    "for index, row in insert_data.iterrows():\n",
    "    pooled = get_worm_locs(row, wrm_locs_fldr, results_dict)\n",
    "\n",
    "pooled_df = pd.DataFrame.from_dict(pooled)\n",
    "mmdf = pooled_df.apply(lambda x: -(x/px_mm)+32.5)"
   ]
  },
  {
   "cell_type": "code",
   "execution_count": 38,
   "id": "92a34b29",
   "metadata": {},
   "outputs": [
    {
     "data": {
      "text/html": [
       "<div>\n",
       "<style scoped>\n",
       "    .dataframe tbody tr th:only-of-type {\n",
       "        vertical-align: middle;\n",
       "    }\n",
       "\n",
       "    .dataframe tbody tr th {\n",
       "        vertical-align: top;\n",
       "    }\n",
       "\n",
       "    .dataframe thead th {\n",
       "        text-align: right;\n",
       "    }\n",
       "</style>\n",
       "<table border=\"1\" class=\"dataframe\">\n",
       "  <thead>\n",
       "    <tr style=\"text-align: right;\">\n",
       "      <th></th>\n",
       "      <th>IAA_o_0</th>\n",
       "      <th>DMSO_iIA_0</th>\n",
       "      <th>DMSO_iO_0</th>\n",
       "      <th>OCT_o_0</th>\n",
       "      <th>IAA_o_1</th>\n",
       "      <th>DMSO_iIA_1</th>\n",
       "      <th>DMSO_iO_1</th>\n",
       "      <th>OCT_o_1</th>\n",
       "    </tr>\n",
       "  </thead>\n",
       "  <tbody>\n",
       "    <tr>\n",
       "      <th>0</th>\n",
       "      <td>10.824568</td>\n",
       "      <td>10.856235</td>\n",
       "      <td>-0.171115</td>\n",
       "      <td>18.059776</td>\n",
       "      <td>2.851150</td>\n",
       "      <td>-1.429775</td>\n",
       "      <td>-24.740252</td>\n",
       "      <td>-21.434431</td>\n",
       "    </tr>\n",
       "    <tr>\n",
       "      <th>1</th>\n",
       "      <td>4.337388</td>\n",
       "      <td>1.711376</td>\n",
       "      <td>-6.999619</td>\n",
       "      <td>17.204438</td>\n",
       "      <td>11.615612</td>\n",
       "      <td>-23.712531</td>\n",
       "      <td>-8.395637</td>\n",
       "      <td>-17.734725</td>\n",
       "    </tr>\n",
       "    <tr>\n",
       "      <th>2</th>\n",
       "      <td>-8.800025</td>\n",
       "      <td>-0.343969</td>\n",
       "      <td>12.467688</td>\n",
       "      <td>-16.590558</td>\n",
       "      <td>11.259838</td>\n",
       "      <td>-12.865642</td>\n",
       "      <td>-21.656543</td>\n",
       "      <td>-13.427914</td>\n",
       "    </tr>\n",
       "    <tr>\n",
       "      <th>3</th>\n",
       "      <td>14.033883</td>\n",
       "      <td>-8.470936</td>\n",
       "      <td>-3.501533</td>\n",
       "      <td>10.413383</td>\n",
       "      <td>5.949811</td>\n",
       "      <td>-6.805115</td>\n",
       "      <td>-12.474224</td>\n",
       "      <td>-2.376108</td>\n",
       "    </tr>\n",
       "    <tr>\n",
       "      <th>4</th>\n",
       "      <td>5.812027</td>\n",
       "      <td>-19.231956</td>\n",
       "      <td>8.274028</td>\n",
       "      <td>-8.378478</td>\n",
       "      <td>18.870990</td>\n",
       "      <td>-17.788877</td>\n",
       "      <td>14.310778</td>\n",
       "      <td>-17.599597</td>\n",
       "    </tr>\n",
       "  </tbody>\n",
       "</table>\n",
       "</div>"
      ],
      "text/plain": [
       "     IAA_o_0  DMSO_iIA_0  DMSO_iO_0    OCT_o_0    IAA_o_1  DMSO_iIA_1  \\\n",
       "0  10.824568   10.856235  -0.171115  18.059776   2.851150   -1.429775   \n",
       "1   4.337388    1.711376  -6.999619  17.204438  11.615612  -23.712531   \n",
       "2  -8.800025   -0.343969  12.467688 -16.590558  11.259838  -12.865642   \n",
       "3  14.033883   -8.470936  -3.501533  10.413383   5.949811   -6.805115   \n",
       "4   5.812027  -19.231956   8.274028  -8.378478  18.870990  -17.788877   \n",
       "\n",
       "   DMSO_iO_1    OCT_o_1  \n",
       "0 -24.740252 -21.434431  \n",
       "1  -8.395637 -17.734725  \n",
       "2 -21.656543 -13.427914  \n",
       "3 -12.474224  -2.376108  \n",
       "4  14.310778 -17.599597  "
      ]
     },
     "execution_count": 38,
     "metadata": {},
     "output_type": "execute_result"
    }
   ],
   "source": []
  },
  {
   "cell_type": "code",
   "execution_count": 63,
   "id": "d6828cfb",
   "metadata": {},
   "outputs": [],
   "source": [
    "iaa = ['IAA_o_1', 'IAA_o_0',  'IAA_i_1',  'IAA_i_0'] \n",
    "\n",
    "oc = ['OCT_i_1', 'OCT_i_0', 'OCT_o_1', 'OCT_o_0', ]"
   ]
  },
  {
   "cell_type": "code",
   "execution_count": 64,
   "id": "94651c46",
   "metadata": {},
   "outputs": [],
   "source": [
    "\n",
    "iDMSO_obj = db.load(mmdf, idx=(oc))\n",
    "results_df = iDMSO_obj.mean_diff.results"
   ]
  },
  {
   "cell_type": "code",
   "execution_count": 65,
   "id": "4a31d48f",
   "metadata": {
    "scrolled": true
   },
   "outputs": [
    {
     "name": "stdout",
     "output_type": "stream",
     "text": [
      "32\n",
      "16\n"
     ]
    }
   ],
   "source": [
    "print(len(insert_data))\n",
    "print(len(comps))"
   ]
  },
  {
   "cell_type": "code",
   "execution_count": 66,
   "id": "2d7c8d61",
   "metadata": {},
   "outputs": [
    {
     "data": {
      "image/png": "[encoded data removed]",
      "text/plain": [
       "<Figure size 600x600 with 2 Axes>"
      ]
     },
     "metadata": {},
     "output_type": "display_data"
    }
   ],
   "source": [
    "mm_plot = iDMSO_obj.mean_diff.plot(raw_marker_size=1, swarm_label = 'Worm locations(mm)', \n",
    "                                        contrast_label=\"Mean differene (mm)\", contrast_ylim = (-20,20), swarm_ylim=(-35,35))\n",
    "\n",
    "#Accessing plot axes to control plot asthetics\n",
    "rawswarm_axes = mm_plot.axes[0]\n",
    "contrast_axes = mm_plot.axes[1]\n",
    "\n",
    "rawswarm_axes.yaxis.set_tick_params(tickdir='in')\n",
    "rawswarm_axes.xaxis.set_tick_params(tickdir='in', rotation=45)\n",
    "\n",
    "contrast_axes.yaxis.set_tick_params(tickdir='in')\n",
    "contrast_axes.xaxis.set_tick_params(tickdir='in',rotation=45)\n",
    "plt.rcParams['svg.fonttype'] = 'none'\n",
    "plt.show()"
   ]
  },
  {
   "cell_type": "code",
   "execution_count": null,
   "id": "c27bddfc",
   "metadata": {},
   "outputs": [],
   "source": []
  }
 ],
 "metadata": {
  "kernelspec": {
   "display_name": "Python 3",
   "language": "python",
   "name": "python3"
  },
  "language_info": {
   "codemirror_mode": {
    "name": "ipython",
    "version": 3
   },
   "file_extension": ".py",
   "mimetype": "text/x-python",
   "name": "python",
   "nbconvert_exporter": "python",
   "pygments_lexer": "ipython3",
   "version": "3.7.4"
  }
 },
 "nbformat": 4,
 "nbformat_minor": 5
}
