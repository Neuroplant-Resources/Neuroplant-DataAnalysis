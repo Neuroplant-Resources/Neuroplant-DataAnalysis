{
 "cells": [
  {
   "cell_type": "markdown",
   "id": "outer-prime",
   "metadata": {},
   "source": [
    "### Cleaning Fall data to combine with new  screen for CV analysis"
   ]
  },
  {
   "cell_type": "code",
   "execution_count": null,
   "id": "helpful-engineering",
   "metadata": {},
   "outputs": [],
   "source": [
    "fall20_assay_data = pd.read_csv('C:/Users/Emily/Documents/_2020_11_screen/_2020_11_automated_analysis/2020_11.csv', index_col=0).reset_index(drop=True)\n",
    "fall20_assay_data['File Name'] = fall20_assay_data['File Name'].str[:-3]\n",
    "fall20_assay_data.head()"
   ]
  },
  {
   "cell_type": "code",
   "execution_count": null,
   "id": "institutional-phoenix",
   "metadata": {},
   "outputs": [],
   "source": [
    "image_data = pd.read_csv('C:/Users/Emily/Documents/_2020_11_screen/ImageData_Fall20.csv')"
   ]
  },
  {
   "cell_type": "code",
   "execution_count": null,
   "id": "finnish-arkansas",
   "metadata": {},
   "outputs": [],
   "source": [
    "def add_pid(row, image_data):\n",
    "    slot_id = row['WellNo'][0]\n",
    "    pid = image_data.loc[\n",
    "       image_data['filename']==row['File Name']][slot_id]\n",
    "    return pid.values[0]\n",
    "\n",
    "\n",
    "fall20_assay_data['Plate ID'] = fall20_assay_data.apply(\n",
    "    lambda row: add_pid(row, image_data), axis=1)\n",
    "fall20_assay_data.head()\n"
   ]
  },
  {
   "cell_type": "code",
   "execution_count": null,
   "id": "accompanied-sullivan",
   "metadata": {},
   "outputs": [],
   "source": [
    "image_data.rename(columns={\n",
    "                       \"Image file name:\": 'filename',\n",
    "                       'Is this the pre or post assay image?': 'pre_fin',\n",
    "                      'Plate number in slot 1:': '1',\n",
    "                       'Plate number in slot 2:': '2',\n",
    "                       'Plate number in slot 3:': '3',\n",
    "                       'Plate number in slot 4:': '4',}, inplace=True)\n",
    "\n",
    "image_data['filename'] = image_data['filename'].str[:17]\n",
    "\n",
    "image_data.head()"
   ]
  },
  {
   "cell_type": "code",
   "execution_count": null,
   "id": "public-truck",
   "metadata": {},
   "outputs": [],
   "source": [
    "fall20_blind = pd.read_csv('C:/Users/Emily/Documents/_2020_11_screen/unblind.csv')\n",
    "def add_fall_comp(row, fall20_blind):\n",
    "    well_id = row['WellNo'][1]\n",
    "    pid = row['Plate ID']\n",
    "    pid_well = str(pid+well_id)\n",
    "    compound = fall20_blind.loc[\n",
    "       pid_well==fall20_blind['Plate_well_id']]['Compound']\n",
    "    #print(compound.values[0])\n",
    "    return compound.values[0]\n",
    "\n",
    "\n",
    "fall20_assay_data['Compound'] = fall20_assay_data.apply(\n",
    "    lambda row: add_fall_comp(row, Fall20_blinding_data), axis=1)\n",
    "fall20_assay_data.head()"
   ]
  },
  {
   "cell_type": "code",
   "execution_count": null,
   "id": "civil-christian",
   "metadata": {},
   "outputs": [],
   "source": [
    "cv = fall_dat.groupby(['Compound'])['Chemotaxis'].std() / fall_dat.groupby(['Compound'])['Chemotaxis'].mean()\n"
   ]
  },
  {
   "cell_type": "code",
   "execution_count": null,
   "id": "numeric-aruba",
   "metadata": {},
   "outputs": [],
   "source": [
    "fall20_assay_data = pd.read_csv('C:/Users/Emily/Documents/_2020_11_screen/Fall20_analysis_ub.csv',index_col=0)\n",
    "fall20_assay_data = fall20_assay_data.loc[:, ~fall20_assay_data.columns.str.contains('^Unnamed')]\n",
    "fall20_assay_data['Strain'] = 'N2'\n",
    "fall20_assay_data.head()"
   ]
  },
  {
   "cell_type": "code",
   "execution_count": null,
   "id": "intimate-clock",
   "metadata": {},
   "outputs": [],
   "source": [
    "total_worms = fall20_assay_data.loc[(fall20_assay_data['Total Worms'] >= 150) & (fall20_assay_data['Total Worms'] <= 300)]\n",
    "total_worms['freq'] = total_worms.groupby('Compound')['Compound'].transform('count')\n",
    "total_worms"
   ]
  }
 ],
 "metadata": {
  "kernelspec": {
   "display_name": "Python 3",
   "language": "python",
   "name": "python3"
  },
  "language_info": {
   "codemirror_mode": {
    "name": "ipython",
    "version": 3
   },
   "file_extension": ".py",
   "mimetype": "text/x-python",
   "name": "python",
   "nbconvert_exporter": "python",
   "pygments_lexer": "ipython3",
   "version": "3.7.4"
  }
 },
 "nbformat": 4,
 "nbformat_minor": 5
}
