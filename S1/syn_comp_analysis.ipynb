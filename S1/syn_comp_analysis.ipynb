{
 "cells": [
  {
   "cell_type": "markdown",
   "id": "ef9b0aca",
   "metadata": {},
   "source": [
    "### Synonymous compound analysis\n",
    "We ended up screening 3 pairs of synonymous compounds. These are:\n",
    "1. situgluside : dacuesterol\n",
    "2. citronellol : beta-citronellol\n",
    "3. coumaran : 2,3 dihydrobenzofuran\n",
    "\n",
    "The following analysis is to check if the results for each of the compounds within the pairs are similar or different to each other"
   ]
  },
  {
   "cell_type": "code",
   "execution_count": 17,
   "id": "alternate-allergy",
   "metadata": {},
   "outputs": [],
   "source": [
    "import pandas as pd\n",
    "import numpy as np\n",
    "import seaborn as sns\n",
    "import matplotlib.pyplot as plt\n",
    "import scipy.stats as stats\n",
    "from scipy.stats import ttest_ind, mannwhitneyu, ks_2samp, kruskal\n",
    "import statsmodels.api as sm"
   ]
  },
  {
   "cell_type": "markdown",
   "id": "fb91e86e",
   "metadata": {},
   "source": [
    "1. Reading in the data"
   ]
  },
  {
   "cell_type": "code",
   "execution_count": 20,
   "id": "packed-shower",
   "metadata": {
    "scrolled": false
   },
   "outputs": [
    {
     "data": {
      "text/html": [
       "<div>\n",
       "<style scoped>\n",
       "    .dataframe tbody tr th:only-of-type {\n",
       "        vertical-align: middle;\n",
       "    }\n",
       "\n",
       "    .dataframe tbody tr th {\n",
       "        vertical-align: top;\n",
       "    }\n",
       "\n",
       "    .dataframe thead th {\n",
       "        text-align: right;\n",
       "    }\n",
       "</style>\n",
       "<table border=\"1\" class=\"dataframe\">\n",
       "  <thead>\n",
       "    <tr style=\"text-align: right;\">\n",
       "      <th></th>\n",
       "      <th>(+)-Carvone</th>\n",
       "      <th>(-)-Borneol</th>\n",
       "      <th>(-)-Cedrene</th>\n",
       "      <th>HuperzineA</th>\n",
       "      <th>1-octanol</th>\n",
       "      <th>2,3-Dihydrobenzofuran</th>\n",
       "      <th>2,5-Dihydroxybenzoic acid</th>\n",
       "      <th>2-Methyl-1-butanol</th>\n",
       "      <th>2-Nonylquinolin-4(1H)-one</th>\n",
       "      <th>2-nonanone</th>\n",
       "      <th>...</th>\n",
       "      <th>Taurine</th>\n",
       "      <th>Thiophene</th>\n",
       "      <th>Trans-Anethole</th>\n",
       "      <th>Ursolic acid</th>\n",
       "      <th>Vincristine (sulfate)</th>\n",
       "      <th>p-Anisic acid</th>\n",
       "      <th>p-Tolualdehyde</th>\n",
       "      <th>trans-Cinnamaldehyde</th>\n",
       "      <th>α-Phellandrene</th>\n",
       "      <th>beta-Citronellol</th>\n",
       "    </tr>\n",
       "  </thead>\n",
       "  <tbody>\n",
       "    <tr>\n",
       "      <th>0</th>\n",
       "      <td>-24.477970</td>\n",
       "      <td>-16.667470</td>\n",
       "      <td>16.183196</td>\n",
       "      <td>-10.592637</td>\n",
       "      <td>22.512030</td>\n",
       "      <td>-7.925637</td>\n",
       "      <td>-4.665970</td>\n",
       "      <td>18.469196</td>\n",
       "      <td>5.049530</td>\n",
       "      <td>5.959696</td>\n",
       "      <td>...</td>\n",
       "      <td>-12.264804</td>\n",
       "      <td>-13.365470</td>\n",
       "      <td>-3.226637</td>\n",
       "      <td>-22.890470</td>\n",
       "      <td>-9.830637</td>\n",
       "      <td>2.721196</td>\n",
       "      <td>-7.502304</td>\n",
       "      <td>-25.705637</td>\n",
       "      <td>-7.502304</td>\n",
       "      <td>-22.445970</td>\n",
       "    </tr>\n",
       "    <tr>\n",
       "      <th>1</th>\n",
       "      <td>-12.455304</td>\n",
       "      <td>-23.969970</td>\n",
       "      <td>8.753696</td>\n",
       "      <td>10.658696</td>\n",
       "      <td>11.441863</td>\n",
       "      <td>3.081030</td>\n",
       "      <td>-21.832137</td>\n",
       "      <td>11.568863</td>\n",
       "      <td>8.732530</td>\n",
       "      <td>3.737196</td>\n",
       "      <td>...</td>\n",
       "      <td>-7.629304</td>\n",
       "      <td>-9.195637</td>\n",
       "      <td>-14.571970</td>\n",
       "      <td>-15.545637</td>\n",
       "      <td>16.797030</td>\n",
       "      <td>16.733530</td>\n",
       "      <td>-1.681470</td>\n",
       "      <td>-21.810970</td>\n",
       "      <td>-0.326804</td>\n",
       "      <td>-7.565804</td>\n",
       "    </tr>\n",
       "    <tr>\n",
       "      <th>2</th>\n",
       "      <td>-14.677804</td>\n",
       "      <td>-6.084137</td>\n",
       "      <td>9.769696</td>\n",
       "      <td>2.403696</td>\n",
       "      <td>8.923030</td>\n",
       "      <td>-9.026304</td>\n",
       "      <td>-7.311804</td>\n",
       "      <td>17.495530</td>\n",
       "      <td>24.861530</td>\n",
       "      <td>14.553363</td>\n",
       "      <td>...</td>\n",
       "      <td>-25.261137</td>\n",
       "      <td>-15.037637</td>\n",
       "      <td>-22.805804</td>\n",
       "      <td>-12.010804</td>\n",
       "      <td>-8.200804</td>\n",
       "      <td>0.922030</td>\n",
       "      <td>-3.036137</td>\n",
       "      <td>-14.021637</td>\n",
       "      <td>5.409363</td>\n",
       "      <td>4.372196</td>\n",
       "    </tr>\n",
       "    <tr>\n",
       "      <th>3</th>\n",
       "      <td>-5.597304</td>\n",
       "      <td>2.276696</td>\n",
       "      <td>-2.655137</td>\n",
       "      <td>5.240030</td>\n",
       "      <td>5.917363</td>\n",
       "      <td>10.531696</td>\n",
       "      <td>0.054196</td>\n",
       "      <td>1.451196</td>\n",
       "      <td>-22.043804</td>\n",
       "      <td>20.247196</td>\n",
       "      <td>...</td>\n",
       "      <td>-22.191970</td>\n",
       "      <td>6.954530</td>\n",
       "      <td>3.970030</td>\n",
       "      <td>-19.038137</td>\n",
       "      <td>11.780530</td>\n",
       "      <td>14.172363</td>\n",
       "      <td>0.138863</td>\n",
       "      <td>-6.824970</td>\n",
       "      <td>10.891530</td>\n",
       "      <td>-5.766637</td>\n",
       "    </tr>\n",
       "    <tr>\n",
       "      <th>4</th>\n",
       "      <td>-22.107304</td>\n",
       "      <td>8.415030</td>\n",
       "      <td>-15.228137</td>\n",
       "      <td>-2.125970</td>\n",
       "      <td>10.044863</td>\n",
       "      <td>8.563196</td>\n",
       "      <td>2.530696</td>\n",
       "      <td>13.029363</td>\n",
       "      <td>-8.751137</td>\n",
       "      <td>-1.067637</td>\n",
       "      <td>...</td>\n",
       "      <td>-6.486304</td>\n",
       "      <td>12.542530</td>\n",
       "      <td>0.752696</td>\n",
       "      <td>-21.959137</td>\n",
       "      <td>-15.841970</td>\n",
       "      <td>8.266863</td>\n",
       "      <td>6.298363</td>\n",
       "      <td>-19.778970</td>\n",
       "      <td>5.155363</td>\n",
       "      <td>17.834196</td>\n",
       "    </tr>\n",
       "  </tbody>\n",
       "</table>\n",
       "<p>5 rows × 96 columns</p>\n",
       "</div>"
      ],
      "text/plain": [
       "   (+)-Carvone  (-)-Borneol  (-)-Cedrene  HuperzineA  1-octanol  \\\n",
       "0   -24.477970   -16.667470    16.183196  -10.592637  22.512030   \n",
       "1   -12.455304   -23.969970     8.753696   10.658696  11.441863   \n",
       "2   -14.677804    -6.084137     9.769696    2.403696   8.923030   \n",
       "3    -5.597304     2.276696    -2.655137    5.240030   5.917363   \n",
       "4   -22.107304     8.415030   -15.228137   -2.125970  10.044863   \n",
       "\n",
       "   2,3-Dihydrobenzofuran  2,5-Dihydroxybenzoic acid  2-Methyl-1-butanol  \\\n",
       "0              -7.925637                  -4.665970           18.469196   \n",
       "1               3.081030                 -21.832137           11.568863   \n",
       "2              -9.026304                  -7.311804           17.495530   \n",
       "3              10.531696                   0.054196            1.451196   \n",
       "4               8.563196                   2.530696           13.029363   \n",
       "\n",
       "   2-Nonylquinolin-4(1H)-one  2-nonanone  ...    Taurine  Thiophene  \\\n",
       "0                   5.049530    5.959696  ... -12.264804 -13.365470   \n",
       "1                   8.732530    3.737196  ...  -7.629304  -9.195637   \n",
       "2                  24.861530   14.553363  ... -25.261137 -15.037637   \n",
       "3                 -22.043804   20.247196  ... -22.191970   6.954530   \n",
       "4                  -8.751137   -1.067637  ...  -6.486304  12.542530   \n",
       "\n",
       "   Trans-Anethole  Ursolic acid  Vincristine (sulfate)  p-Anisic acid  \\\n",
       "0       -3.226637    -22.890470              -9.830637       2.721196   \n",
       "1      -14.571970    -15.545637              16.797030      16.733530   \n",
       "2      -22.805804    -12.010804              -8.200804       0.922030   \n",
       "3        3.970030    -19.038137              11.780530      14.172363   \n",
       "4        0.752696    -21.959137             -15.841970       8.266863   \n",
       "\n",
       "   p-Tolualdehyde  trans-Cinnamaldehyde  α-Phellandrene  beta-Citronellol  \n",
       "0       -7.502304            -25.705637       -7.502304        -22.445970  \n",
       "1       -1.681470            -21.810970       -0.326804         -7.565804  \n",
       "2       -3.036137            -14.021637        5.409363          4.372196  \n",
       "3        0.138863             -6.824970       10.891530         -5.766637  \n",
       "4        6.298363            -19.778970        5.155363         17.834196  \n",
       "\n",
       "[5 rows x 96 columns]"
      ]
     },
     "execution_count": 20,
     "metadata": {},
     "output_type": "execute_result"
    }
   ],
   "source": [
    "\n",
    "xs = pd.read_csv('C:/Users/Emily/Documents/S1/S1_xs3.csv', index_col=0)\n",
    "xs.head()"
   ]
  },
  {
   "cell_type": "markdown",
   "id": "9a8131a2",
   "metadata": {},
   "source": [
    "2. Creating a function to subset the data for each compound from the larger dataset"
   ]
  },
  {
   "cell_type": "code",
   "execution_count": 22,
   "id": "healthy-education",
   "metadata": {},
   "outputs": [],
   "source": [
    "def compound_dat(c, xdf):\n",
    "    h  = xdf[c]\n",
    "    hc = [x for x in h if str(x) != 'nan']\n",
    "    #hcdic = {'Compound':c, 'Position':dc}\n",
    "    #hcdf = pd.DataFrame(hcdic)\n",
    "    return hc"
   ]
  },
  {
   "cell_type": "code",
   "execution_count": 11,
   "id": "perceived-hearts",
   "metadata": {},
   "outputs": [
    {
     "name": "stdout",
     "output_type": "stream",
     "text": [
      "[('Daucosterol', 'Sitogluside'), ('beta-Citronellol', 'Citronellol'), ('Coumaran', '2,3-Dihydrobenzofuran')]\n"
     ]
    }
   ],
   "source": [
    "pairs = [('Daucosterol', 'Sitogluside'), ('beta-Citronellol', 'Citronellol'), ('Coumaran','2,3-Dihydrobenzofuran')]\n",
    "print(pairs) "
   ]
  },
  {
   "cell_type": "markdown",
   "id": "a4202da2",
   "metadata": {},
   "source": [
    "3. Parsing through the dataset subsetting the compound pairs\n",
    "4. Confirming equal variances for each synonymous pair of compounds\n",
    "5. Performing a students ttest to see if the distributions are similar. We use the median parameter because the data are skewed"
   ]
  },
  {
   "cell_type": "code",
   "execution_count": 24,
   "id": "exciting-benchmark",
   "metadata": {},
   "outputs": [],
   "source": [
    "hcdf = pd.DataFrame()\n",
    "for p in pairs:\n",
    "    d1 = compound_dat(p[0], xs)\n",
    "    d2 = compound_dat(p[1], xs)\n",
    "    #print(stats.levene(d1,d2, center='median'))\n",
    "    #stat, p_value = ks_2samp(d1, d2)\n",
    "    stat, p_value = ttest_ind(d1, d2)\n",
    "    s, mwup = mannwhitneyu(d1, d2)\n",
    "    hcdic = {'Compound pair': p, 'p-value':p_value, 'MWU':mwup}\n",
    "    hcd = pd.DataFrame(hcdic)\n",
    "    hcdf = hcdf.append(hcd)\n"
   ]
  },
  {
   "cell_type": "markdown",
   "id": "582865af",
   "metadata": {},
   "source": [
    "6. We have confimed that the pvalue of Levene's test is >.05, so we can assume homgenaity of variance.\n",
    "7. Given homogeneity of variance, we can proceed with performing the Mann Whitney U test"
   ]
  },
  {
   "cell_type": "code",
   "execution_count": 25,
   "id": "e8fd7d07",
   "metadata": {
    "scrolled": true
   },
   "outputs": [
    {
     "data": {
      "text/html": [
       "<div>\n",
       "<style scoped>\n",
       "    .dataframe tbody tr th:only-of-type {\n",
       "        vertical-align: middle;\n",
       "    }\n",
       "\n",
       "    .dataframe tbody tr th {\n",
       "        vertical-align: top;\n",
       "    }\n",
       "\n",
       "    .dataframe thead th {\n",
       "        text-align: right;\n",
       "    }\n",
       "</style>\n",
       "<table border=\"1\" class=\"dataframe\">\n",
       "  <thead>\n",
       "    <tr style=\"text-align: right;\">\n",
       "      <th></th>\n",
       "      <th>Compound pair</th>\n",
       "      <th>p-value</th>\n",
       "      <th>MWU</th>\n",
       "    </tr>\n",
       "  </thead>\n",
       "  <tbody>\n",
       "    <tr>\n",
       "      <th>0</th>\n",
       "      <td>Daucosterol</td>\n",
       "      <td>1.587859e-03</td>\n",
       "      <td>9.576041e-04</td>\n",
       "    </tr>\n",
       "    <tr>\n",
       "      <th>1</th>\n",
       "      <td>Sitogluside</td>\n",
       "      <td>1.587859e-03</td>\n",
       "      <td>9.576041e-04</td>\n",
       "    </tr>\n",
       "    <tr>\n",
       "      <th>0</th>\n",
       "      <td>beta-Citronellol</td>\n",
       "      <td>4.155781e-01</td>\n",
       "      <td>1.596890e-01</td>\n",
       "    </tr>\n",
       "    <tr>\n",
       "      <th>1</th>\n",
       "      <td>Citronellol</td>\n",
       "      <td>4.155781e-01</td>\n",
       "      <td>1.596890e-01</td>\n",
       "    </tr>\n",
       "    <tr>\n",
       "      <th>0</th>\n",
       "      <td>Coumaran</td>\n",
       "      <td>1.333910e-07</td>\n",
       "      <td>8.328004e-10</td>\n",
       "    </tr>\n",
       "    <tr>\n",
       "      <th>1</th>\n",
       "      <td>2,3-Dihydrobenzofuran</td>\n",
       "      <td>1.333910e-07</td>\n",
       "      <td>8.328004e-10</td>\n",
       "    </tr>\n",
       "  </tbody>\n",
       "</table>\n",
       "</div>"
      ],
      "text/plain": [
       "           Compound pair       p-value           MWU\n",
       "0            Daucosterol  1.587859e-03  9.576041e-04\n",
       "1            Sitogluside  1.587859e-03  9.576041e-04\n",
       "0       beta-Citronellol  4.155781e-01  1.596890e-01\n",
       "1            Citronellol  4.155781e-01  1.596890e-01\n",
       "0               Coumaran  1.333910e-07  8.328004e-10\n",
       "1  2,3-Dihydrobenzofuran  1.333910e-07  8.328004e-10"
      ]
     },
     "execution_count": 25,
     "metadata": {},
     "output_type": "execute_result"
    }
   ],
   "source": [
    "hcdf"
   ]
  },
  {
   "cell_type": "code",
   "execution_count": 103,
   "id": "fuzzy-scottish",
   "metadata": {
    "scrolled": true
   },
   "outputs": [
    {
     "name": "stdout",
     "output_type": "stream",
     "text": [
      "t-test: statistic=-3.1630, p-value=0.0016\n"
     ]
    }
   ],
   "source": [
    "stat, p_value = ttest_ind(dc, sc)\n",
    "print(f\"t-test: statistic={stat:.4f}, p-value={p_value:.4f}\")"
   ]
  },
  {
   "cell_type": "code",
   "execution_count": 104,
   "id": "waiting-bread",
   "metadata": {},
   "outputs": [
    {
     "name": "stdout",
     "output_type": "stream",
     "text": [
      " Mann–Whitney U Test: statistic=365246.5000, p-value=0.0010\n"
     ]
    }
   ],
   "source": [
    "stat, p_value = mannwhitneyu(sc, dc)\n",
    "print(f\" Mann–Whitney U Test: statistic={stat:.4f}, p-value={p_value:.4f}\")"
   ]
  },
  {
   "cell_type": "code",
   "execution_count": 105,
   "id": "thirty-armenia",
   "metadata": {},
   "outputs": [
    {
     "data": {
      "text/plain": [
       "<AxesSubplot:xlabel='Position', ylabel='Density'>"
      ]
     },
     "execution_count": 105,
     "metadata": {},
     "output_type": "execute_result"
    },
    {
     "data": {
      "image/png": "[encoded data removed]",
      "text/plain": [
       "<Figure size 432x288 with 1 Axes>"
      ]
     },
     "metadata": {
      "needs_background": "light"
     },
     "output_type": "display_data"
    }
   ],
   "source": [
    "sns.kdeplot(data=wide, x='Position', hue='Compound')"
   ]
  },
  {
   "cell_type": "code",
   "execution_count": 107,
   "id": "victorian-manchester",
   "metadata": {},
   "outputs": [
    {
     "data": {
      "image/png": "[encoded data removed]",
      "text/plain": [
       "<Figure size 432x288 with 1 Axes>"
      ]
     },
     "metadata": {
      "needs_background": "light"
     },
     "output_type": "display_data"
    }
   ],
   "source": [
    "fig, ax = plt.subplots()\n",
    "sns.histplot(x='Position', data=wide, hue='Compound', bins=len(ddf), stat=\"density\",\n",
    "             element=\"step\", fill=False, cumulative=True, common_norm=False)\n",
    "fig.savefig('C:/Users/Emily/Desktop/ecdf.png')"
   ]
  },
  {
   "cell_type": "code",
   "execution_count": 72,
   "id": "confused-hygiene",
   "metadata": {
    "scrolled": true
   },
   "outputs": [
    {
     "data": {
      "text/plain": [
       "KstestResult(statistic=0.08081195232297726, pvalue=0.005609195937808176)"
      ]
     },
     "execution_count": 72,
     "metadata": {},
     "output_type": "execute_result"
    }
   ],
   "source": [
    "ks_2samp(dc, sc)"
   ]
  },
  {
   "cell_type": "code",
   "execution_count": 112,
   "id": "legitimate-revelation",
   "metadata": {},
   "outputs": [
    {
     "data": {
      "text/plain": [
       "KruskalResult(statistic=9.629360775113005, pvalue=0.0019149124321844533)"
      ]
     },
     "execution_count": 112,
     "metadata": {},
     "output_type": "execute_result"
    }
   ],
   "source": [
    "stats.kruskal(dc,sc)"
   ]
  },
  {
   "cell_type": "code",
   "execution_count": null,
   "id": "national-fundamental",
   "metadata": {},
   "outputs": [],
   "source": []
  }
 ],
 "metadata": {
  "kernelspec": {
   "display_name": "Python 3",
   "language": "python",
   "name": "python3"
  },
  "language_info": {
   "codemirror_mode": {
    "name": "ipython",
    "version": 3
   },
   "file_extension": ".py",
   "mimetype": "text/x-python",
   "name": "python",
   "nbconvert_exporter": "python",
   "pygments_lexer": "ipython3",
   "version": "3.7.4"
  }
 },
 "nbformat": 4,
 "nbformat_minor": 5
}
