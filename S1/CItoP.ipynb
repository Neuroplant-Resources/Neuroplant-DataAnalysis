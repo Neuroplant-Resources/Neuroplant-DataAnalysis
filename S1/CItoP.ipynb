{
 "cells": [
  {
   "cell_type": "markdown",
   "id": "0ae9060f",
   "metadata": {},
   "source": [
    "### Benjemini-Hochberg (BH) correction analysis\n",
    "This analysis was performed on the initial dataset (N2 vs 96 compounds) at the request of reviewers after all initial analyses were performed"
   ]
  },
  {
   "cell_type": "code",
   "execution_count": 1,
   "id": "floral-complaint",
   "metadata": {},
   "outputs": [],
   "source": [
    "import math\n",
    "import numpy as np\n",
    "import pandas as pd\n",
    "from scipy.stats import norm\n",
    "import scipy\n",
    "import seaborn as sn\n",
    "import matplotlib.pyplot as plt\n",
    "from math import log\n",
    "from collections import Counter"
   ]
  },
  {
   "cell_type": "markdown",
   "id": "5308d0cb",
   "metadata": {},
   "source": [
    "#### Reading in the data"
   ]
  },
  {
   "cell_type": "code",
   "execution_count": 12,
   "id": "passing-interval",
   "metadata": {},
   "outputs": [],
   "source": [
    "sub = ['control', 'test', 'difference', 'bca_low', 'bca_high']\n",
    "data = pd.read_csv('/Users/Emily/Documents/S1/S1_3.csv', usecols=sub).reset_index(drop=True)"
   ]
  },
  {
   "cell_type": "markdown",
   "id": "fd8ce1e7",
   "metadata": {},
   "source": [
    "#### Defining functions to calculate BH correction and p values"
   ]
  },
  {
   "cell_type": "code",
   "execution_count": 13,
   "id": "bizarre-spine",
   "metadata": {},
   "outputs": [],
   "source": [
    "def CItoP(row):\n",
    "    u = row['bca_high']\n",
    "    l = row['bca_low']\n",
    "    Est = row['difference']\n",
    "    #calculate the standard error from the upper and lower bounds of the confidence interval\n",
    "    SE = (u-l)/(2*1.96)\n",
    "    #calculate the z-score from the difference in means (estimated mean) over the standard error\n",
    "    z = Est/SE\n",
    "    #find the area under the curve of the CDF for the associated z-score using scipy.stats.special.ndtr or scipy.stats.norm.sf\n",
    "    #equations to integrate the area under the curve for both functions are the same.\n",
    "    p = norm.sf(abs(z))*2 #two-sided\n",
    "    return p"
   ]
  },
  {
   "cell_type": "code",
   "execution_count": 14,
   "id": "therapeutic-october",
   "metadata": {
    "scrolled": true
   },
   "outputs": [],
   "source": [
    "# adding p values to the dataframe\n",
    "for index, row in data.iterrows():\n",
    "    data.loc[index, 'p_value'] = CItoP(row)\n"
   ]
  },
  {
   "cell_type": "code",
   "execution_count": 15,
   "id": "romance-judges",
   "metadata": {
    "scrolled": true
   },
   "outputs": [],
   "source": [
    "# i = pvalue rank\n",
    "# m = total number of tests\n",
    "# Q = false discovery rate percentage\n",
    "\n",
    "def BH_critical(i, m, Q):\n",
    "    correction = (i/m)*Q\n",
    "    return correction"
   ]
  },
  {
   "cell_type": "code",
   "execution_count": 17,
   "id": "comic-costa",
   "metadata": {},
   "outputs": [],
   "source": [
    "#Creating ranks for the BH correction\n",
    "def pranks(df, fdr):\n",
    "    hed = 'BH_correction_' + str(fdr)\n",
    "    for index, row in df.iterrows():\n",
    "        df.loc[index, hed] = BH_critical(row['rank'],96,fdr)\n",
    "    return df"
   ]
  },
  {
   "cell_type": "code",
   "execution_count": 18,
   "id": "latter-behavior",
   "metadata": {
    "scrolled": true
   },
   "outputs": [
    {
     "data": {
      "text/html": [
       "<div>\n",
       "<style scoped>\n",
       "    .dataframe tbody tr th:only-of-type {\n",
       "        vertical-align: middle;\n",
       "    }\n",
       "\n",
       "    .dataframe tbody tr th {\n",
       "        vertical-align: top;\n",
       "    }\n",
       "\n",
       "    .dataframe thead th {\n",
       "        text-align: right;\n",
       "    }\n",
       "</style>\n",
       "<table border=\"1\" class=\"dataframe\">\n",
       "  <thead>\n",
       "    <tr style=\"text-align: right;\">\n",
       "      <th></th>\n",
       "      <th>control</th>\n",
       "      <th>test</th>\n",
       "      <th>difference</th>\n",
       "      <th>bca_low</th>\n",
       "      <th>bca_high</th>\n",
       "      <th>p_value</th>\n",
       "      <th>rank</th>\n",
       "      <th>BH_correction_0.05</th>\n",
       "    </tr>\n",
       "  </thead>\n",
       "  <tbody>\n",
       "    <tr>\n",
       "      <th>90</th>\n",
       "      <td>H2O</td>\n",
       "      <td>Eucalyptol</td>\n",
       "      <td>0.131015</td>\n",
       "      <td>-1.520330</td>\n",
       "      <td>1.710998</td>\n",
       "      <td>0.873718</td>\n",
       "      <td>91</td>\n",
       "      <td>0.047396</td>\n",
       "    </tr>\n",
       "    <tr>\n",
       "      <th>91</th>\n",
       "      <td>H2O</td>\n",
       "      <td>Carnosic acid</td>\n",
       "      <td>0.116052</td>\n",
       "      <td>-1.502566</td>\n",
       "      <td>1.752305</td>\n",
       "      <td>0.888844</td>\n",
       "      <td>92</td>\n",
       "      <td>0.047917</td>\n",
       "    </tr>\n",
       "    <tr>\n",
       "      <th>92</th>\n",
       "      <td>H2O</td>\n",
       "      <td>Rosmarinic acid</td>\n",
       "      <td>-0.100297</td>\n",
       "      <td>-1.653787</td>\n",
       "      <td>1.484949</td>\n",
       "      <td>0.900316</td>\n",
       "      <td>93</td>\n",
       "      <td>0.048438</td>\n",
       "    </tr>\n",
       "    <tr>\n",
       "      <th>93</th>\n",
       "      <td>H2O</td>\n",
       "      <td>Trans-Anethole</td>\n",
       "      <td>-0.072106</td>\n",
       "      <td>-1.680317</td>\n",
       "      <td>1.456152</td>\n",
       "      <td>0.928192</td>\n",
       "      <td>94</td>\n",
       "      <td>0.048958</td>\n",
       "    </tr>\n",
       "    <tr>\n",
       "      <th>94</th>\n",
       "      <td>H2O</td>\n",
       "      <td>Skatole</td>\n",
       "      <td>0.017496</td>\n",
       "      <td>-1.500906</td>\n",
       "      <td>1.571867</td>\n",
       "      <td>0.982193</td>\n",
       "      <td>95</td>\n",
       "      <td>0.049479</td>\n",
       "    </tr>\n",
       "  </tbody>\n",
       "</table>\n",
       "</div>"
      ],
      "text/plain": [
       "   control             test  difference   bca_low  bca_high   p_value  rank  \\\n",
       "90     H2O       Eucalyptol    0.131015 -1.520330  1.710998  0.873718    91   \n",
       "91     H2O    Carnosic acid    0.116052 -1.502566  1.752305  0.888844    92   \n",
       "92     H2O  Rosmarinic acid   -0.100297 -1.653787  1.484949  0.900316    93   \n",
       "93     H2O   Trans-Anethole   -0.072106 -1.680317  1.456152  0.928192    94   \n",
       "94     H2O          Skatole    0.017496 -1.500906  1.571867  0.982193    95   \n",
       "\n",
       "    BH_correction_0.05  \n",
       "90            0.047396  \n",
       "91            0.047917  \n",
       "92            0.048438  \n",
       "93            0.048958  \n",
       "94            0.049479  "
      ]
     },
     "execution_count": 18,
     "metadata": {},
     "output_type": "execute_result"
    }
   ],
   "source": [
    "#Iterating through the dataframe \n",
    "vals96 = pd.DataFrame()\n",
    "controls = ['DMSO', 'H2O']\n",
    "\n",
    "for c in controls:\n",
    "    h = data.loc[data['control']==c]\n",
    "    ranked = h.sort_values(by=['p_value']).reset_index(drop=True)\n",
    "    ranks=np.arange(1,len(ranked)+1)\n",
    "    ranked['rank'] = ranks\n",
    "    BH = pranks(ranked, .05)\n",
    "    vals96 = vals96.append(BH)\n",
    "vals96.tail()"
   ]
  },
  {
   "cell_type": "code",
   "execution_count": 19,
   "id": "ordered-robinson",
   "metadata": {},
   "outputs": [
    {
     "data": {
      "text/html": [
       "<div>\n",
       "<style scoped>\n",
       "    .dataframe tbody tr th:only-of-type {\n",
       "        vertical-align: middle;\n",
       "    }\n",
       "\n",
       "    .dataframe tbody tr th {\n",
       "        vertical-align: top;\n",
       "    }\n",
       "\n",
       "    .dataframe thead th {\n",
       "        text-align: right;\n",
       "    }\n",
       "</style>\n",
       "<table border=\"1\" class=\"dataframe\">\n",
       "  <thead>\n",
       "    <tr style=\"text-align: right;\">\n",
       "      <th></th>\n",
       "      <th>control</th>\n",
       "      <th>test</th>\n",
       "      <th>difference</th>\n",
       "      <th>bca_low</th>\n",
       "      <th>bca_high</th>\n",
       "      <th>p_value</th>\n",
       "      <th>rank</th>\n",
       "      <th>BH_correction_0.05</th>\n",
       "    </tr>\n",
       "  </thead>\n",
       "  <tbody>\n",
       "    <tr>\n",
       "      <th>0</th>\n",
       "      <td>DMSO</td>\n",
       "      <td>Isoamyl alcohol</td>\n",
       "      <td>14.166999</td>\n",
       "      <td>12.820407</td>\n",
       "      <td>15.511796</td>\n",
       "      <td>1.353903e-94</td>\n",
       "      <td>1</td>\n",
       "      <td>0.000521</td>\n",
       "    </tr>\n",
       "    <tr>\n",
       "      <th>1</th>\n",
       "      <td>DMSO</td>\n",
       "      <td>2-Methyl-1-butanol</td>\n",
       "      <td>11.712247</td>\n",
       "      <td>9.891178</td>\n",
       "      <td>13.409462</td>\n",
       "      <td>6.392657e-39</td>\n",
       "      <td>2</td>\n",
       "      <td>0.001042</td>\n",
       "    </tr>\n",
       "    <tr>\n",
       "      <th>2</th>\n",
       "      <td>DMSO</td>\n",
       "      <td>Thiophene</td>\n",
       "      <td>9.759898</td>\n",
       "      <td>8.202217</td>\n",
       "      <td>11.263300</td>\n",
       "      <td>7.612012e-36</td>\n",
       "      <td>3</td>\n",
       "      <td>0.001563</td>\n",
       "    </tr>\n",
       "    <tr>\n",
       "      <th>3</th>\n",
       "      <td>DMSO</td>\n",
       "      <td>2,3-Dihydrobenzofuran</td>\n",
       "      <td>9.194467</td>\n",
       "      <td>7.629789</td>\n",
       "      <td>10.673937</td>\n",
       "      <td>2.428362e-32</td>\n",
       "      <td>4</td>\n",
       "      <td>0.002083</td>\n",
       "    </tr>\n",
       "    <tr>\n",
       "      <th>4</th>\n",
       "      <td>DMSO</td>\n",
       "      <td>Diacetyl</td>\n",
       "      <td>8.018781</td>\n",
       "      <td>6.589946</td>\n",
       "      <td>9.361027</td>\n",
       "      <td>7.992905e-30</td>\n",
       "      <td>5</td>\n",
       "      <td>0.002604</td>\n",
       "    </tr>\n",
       "    <tr>\n",
       "      <th>...</th>\n",
       "      <td>...</td>\n",
       "      <td>...</td>\n",
       "      <td>...</td>\n",
       "      <td>...</td>\n",
       "      <td>...</td>\n",
       "      <td>...</td>\n",
       "      <td>...</td>\n",
       "      <td>...</td>\n",
       "    </tr>\n",
       "    <tr>\n",
       "      <th>35</th>\n",
       "      <td>H2O</td>\n",
       "      <td>Oleanolic Acid</td>\n",
       "      <td>-2.178525</td>\n",
       "      <td>-3.833409</td>\n",
       "      <td>-0.583985</td>\n",
       "      <td>8.586267e-03</td>\n",
       "      <td>36</td>\n",
       "      <td>0.018750</td>\n",
       "    </tr>\n",
       "    <tr>\n",
       "      <th>36</th>\n",
       "      <td>H2O</td>\n",
       "      <td>Ethyl palmitate</td>\n",
       "      <td>2.155766</td>\n",
       "      <td>0.531007</td>\n",
       "      <td>3.781640</td>\n",
       "      <td>9.331073e-03</td>\n",
       "      <td>37</td>\n",
       "      <td>0.019271</td>\n",
       "    </tr>\n",
       "    <tr>\n",
       "      <th>37</th>\n",
       "      <td>H2O</td>\n",
       "      <td>Piperonyl Alcohol</td>\n",
       "      <td>1.872080</td>\n",
       "      <td>0.430105</td>\n",
       "      <td>3.296847</td>\n",
       "      <td>1.047040e-02</td>\n",
       "      <td>38</td>\n",
       "      <td>0.019792</td>\n",
       "    </tr>\n",
       "    <tr>\n",
       "      <th>38</th>\n",
       "      <td>H2O</td>\n",
       "      <td>p-Tolualdehyde</td>\n",
       "      <td>1.987114</td>\n",
       "      <td>0.397433</td>\n",
       "      <td>3.483390</td>\n",
       "      <td>1.159710e-02</td>\n",
       "      <td>39</td>\n",
       "      <td>0.020313</td>\n",
       "    </tr>\n",
       "    <tr>\n",
       "      <th>39</th>\n",
       "      <td>H2O</td>\n",
       "      <td>Lapachol</td>\n",
       "      <td>1.935785</td>\n",
       "      <td>0.308261</td>\n",
       "      <td>3.582062</td>\n",
       "      <td>2.045582e-02</td>\n",
       "      <td>40</td>\n",
       "      <td>0.020833</td>\n",
       "    </tr>\n",
       "  </tbody>\n",
       "</table>\n",
       "<p>87 rows × 8 columns</p>\n",
       "</div>"
      ],
      "text/plain": [
       "   control                   test  difference    bca_low   bca_high  \\\n",
       "0     DMSO        Isoamyl alcohol   14.166999  12.820407  15.511796   \n",
       "1     DMSO     2-Methyl-1-butanol   11.712247   9.891178  13.409462   \n",
       "2     DMSO              Thiophene    9.759898   8.202217  11.263300   \n",
       "3     DMSO  2,3-Dihydrobenzofuran    9.194467   7.629789  10.673937   \n",
       "4     DMSO               Diacetyl    8.018781   6.589946   9.361027   \n",
       "..     ...                    ...         ...        ...        ...   \n",
       "35     H2O         Oleanolic Acid   -2.178525  -3.833409  -0.583985   \n",
       "36     H2O        Ethyl palmitate    2.155766   0.531007   3.781640   \n",
       "37     H2O      Piperonyl Alcohol    1.872080   0.430105   3.296847   \n",
       "38     H2O         p-Tolualdehyde    1.987114   0.397433   3.483390   \n",
       "39     H2O               Lapachol    1.935785   0.308261   3.582062   \n",
       "\n",
       "         p_value  rank  BH_correction_0.05  \n",
       "0   1.353903e-94     1            0.000521  \n",
       "1   6.392657e-39     2            0.001042  \n",
       "2   7.612012e-36     3            0.001563  \n",
       "3   2.428362e-32     4            0.002083  \n",
       "4   7.992905e-30     5            0.002604  \n",
       "..           ...   ...                 ...  \n",
       "35  8.586267e-03    36            0.018750  \n",
       "36  9.331073e-03    37            0.019271  \n",
       "37  1.047040e-02    38            0.019792  \n",
       "38  1.159710e-02    39            0.020313  \n",
       "39  2.045582e-02    40            0.020833  \n",
       "\n",
       "[87 rows x 8 columns]"
      ]
     },
     "execution_count": 19,
     "metadata": {},
     "output_type": "execute_result"
    }
   ],
   "source": [
    "#Finding compounds where the p value is less than the BH correction\n",
    "filtered_BH = vals96.loc[vals96['p_value'] < vals96['BH_correction_0.05']]\n",
    "filtered_BH"
   ]
  },
  {
   "cell_type": "code",
   "execution_count": 21,
   "id": "textile-hunter",
   "metadata": {},
   "outputs": [],
   "source": [
    "#Comparing the \"significant\" hits between DMSO and H2O controls. What compounds are found in both sets?\n",
    "test = filtered_BH['test']\n",
    "counts = Counter(test)\n",
    "output = [value for value, count in counts.items() if count > 1]"
   ]
  },
  {
   "cell_type": "code",
   "execution_count": 22,
   "id": "animal-spread",
   "metadata": {},
   "outputs": [
    {
     "data": {
      "text/plain": [
       "['DMSO', 'H2O', 'Oleanolic Acid', 'Sabinene', 'Sinomenine hydrochloride']"
      ]
     },
     "execution_count": 22,
     "metadata": {},
     "output_type": "execute_result"
    }
   ],
   "source": [
    "#Next we want to find which compounds we would have omitted from our mutant screens if we had performed BH-corrections\n",
    "followups = pd.read_csv('/Users/Emily/Documents/S1/inner3.csv', index_col=0)\n",
    "comps = list(followups['test'].unique())\n",
    "set1 = set(comps)\n",
    "set2 = set(output)\n",
    "missing = list(sorted(set1 - set2))\n",
    "missing"
   ]
  },
  {
   "cell_type": "markdown",
   "id": "70b0d331",
   "metadata": {},
   "source": [
    "#### Creating a clean and sorted Supplemental Table 2"
   ]
  },
  {
   "cell_type": "code",
   "execution_count": 41,
   "id": "cceaa4fd",
   "metadata": {},
   "outputs": [],
   "source": [
    "dmso = vals96.loc[vals96['control']=='DMSO']\n",
    "dmso = dmso.sort_values(by='difference', ascending=False)\n",
    "cord = list(dmso['test'])\n",
    "\n",
    "h2o = vals96.loc[vals96['control'] == 'H2O']\n",
    "h2o = h2o.set_index('test').reindex(cord).reset_index()\n",
    "reordered = dmso.append(h2o)\n",
    "reordered = reordered.drop(columns=['rank'])"
   ]
  },
  {
   "cell_type": "code",
   "execution_count": 44,
   "id": "348e0c8b",
   "metadata": {
    "scrolled": true
   },
   "outputs": [],
   "source": [
    "#reordered.to_csv('/Users/Emily/Documents/S1/reorderedS2.csv')"
   ]
  }
 ],
 "metadata": {
  "kernelspec": {
   "display_name": "Python 3 (ipykernel)",
   "language": "python",
   "name": "python3"
  },
  "language_info": {
   "codemirror_mode": {
    "name": "ipython",
    "version": 3
   },
   "file_extension": ".py",
   "mimetype": "text/x-python",
   "name": "python",
   "nbconvert_exporter": "python",
   "pygments_lexer": "ipython3",
   "version": "3.7.12"
  }
 },
 "nbformat": 4,
 "nbformat_minor": 5
}
