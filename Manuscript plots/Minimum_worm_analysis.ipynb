{
 "cells": [
  {
   "cell_type": "markdown",
   "metadata": {},
   "source": [
    "### Importing analysis packages"
   ]
  },
  {
   "cell_type": "code",
   "execution_count": 1,
   "metadata": {},
   "outputs": [],
   "source": [
    "import numpy as np\n",
    "import pandas as pd\n",
    "import matplotlib as mpl\n",
    "from matplotlib import pyplot as plt\n",
    "from mpl_toolkits.axes_grid1.inset_locator import inset_axes\n",
    "import seaborn as sns\n",
    "import dabest as db\n",
    "import pathlib as plb\n",
    "from scipy.stats import norm\n",
    "import statistics"
   ]
  },
  {
   "cell_type": "markdown",
   "metadata": {},
   "source": [
    "### Reading in and cleaning up the data"
   ]
  },
  {
   "cell_type": "code",
   "execution_count": 2,
   "metadata": {
    "scrolled": true
   },
   "outputs": [],
   "source": [
    "### Read in data that contains unblinded compounds, chemotaxis indices and worm totals\n",
    "### for the March 2021 screen.\n",
    "\n",
    "screen_data = pd.read_csv('C:/Users/Emily/Documents/_2021_03_screen/2103_ia_results_unblinded.csv', index_col=0)\n"
   ]
  },
  {
   "cell_type": "code",
   "execution_count": 3,
   "metadata": {},
   "outputs": [],
   "source": [
    "#Creating a subset of the 03/2021 data that contains only values for DMSO:DMSO\n",
    "subset =  screen_data.loc[screen_data['Compound Name']== 'DMSO']\n",
    "\n",
    "#Generating a file path to dynamically read in worm location files\n",
    "wrm_locs_fldr = plb.Path('C:/Users/Emily/Documents/_2021_03_screen/_2021_03_automated_results/')"
   ]
  },
  {
   "cell_type": "code",
   "execution_count": 4,
   "metadata": {},
   "outputs": [],
   "source": [
    "# A function that will aggregate the all worm locations for a given condition\n",
    "\n",
    "def get_worm_locs(row, wrms, result_dict): \n",
    "\n",
    "    fname = row['File Name']\n",
    "    wellnum = row['WellNo']\n",
    "    loc_fname =  wrms.joinpath('loc_' + fname + '_' + wellnum + '.csv')\n",
    "    temp = pd.read_csv(loc_fname)\n",
    "    compound = row['Compound Name']\n",
    "    xs = temp['centroid-1']\n",
    "    #xs = list(temp['centroid-1'])\n",
    "    if compound in result_dict:\n",
    "        result_dict[compound] = result_dict[compound].append(xs)\n",
    "        result_dict[compound].reset_index(inplace=True, drop=True)\n",
    "        #result_dict[compound] = result_dict[compound]+xs\n",
    "    else:\n",
    "        result_dict[compound]=xs\n",
    "    \n",
    "    return result_dict\n"
   ]
  },
  {
   "cell_type": "code",
   "execution_count": 5,
   "metadata": {},
   "outputs": [
    {
     "data": {
      "text/html": [
       "<div>\n",
       "<style scoped>\n",
       "    .dataframe tbody tr th:only-of-type {\n",
       "        vertical-align: middle;\n",
       "    }\n",
       "\n",
       "    .dataframe tbody tr th {\n",
       "        vertical-align: top;\n",
       "    }\n",
       "\n",
       "    .dataframe thead th {\n",
       "        text-align: right;\n",
       "    }\n",
       "</style>\n",
       "<table border=\"1\" class=\"dataframe\">\n",
       "  <thead>\n",
       "    <tr style=\"text-align: right;\">\n",
       "      <th></th>\n",
       "      <th>DMSO</th>\n",
       "    </tr>\n",
       "  </thead>\n",
       "  <tbody>\n",
       "    <tr>\n",
       "      <th>0</th>\n",
       "      <td>568</td>\n",
       "    </tr>\n",
       "    <tr>\n",
       "      <th>1</th>\n",
       "      <td>1803</td>\n",
       "    </tr>\n",
       "    <tr>\n",
       "      <th>2</th>\n",
       "      <td>792</td>\n",
       "    </tr>\n",
       "    <tr>\n",
       "      <th>3</th>\n",
       "      <td>2215</td>\n",
       "    </tr>\n",
       "    <tr>\n",
       "      <th>4</th>\n",
       "      <td>1089</td>\n",
       "    </tr>\n",
       "  </tbody>\n",
       "</table>\n",
       "</div>"
      ],
      "text/plain": [
       "   DMSO\n",
       "0   568\n",
       "1  1803\n",
       "2   792\n",
       "3  2215\n",
       "4  1089"
      ]
     },
     "execution_count": 5,
     "metadata": {},
     "output_type": "execute_result"
    }
   ],
   "source": [
    "# Need to create an empty dictionary to hold the values\n",
    "results_dict = {}\n",
    "for index, row in subset.iterrows():\n",
    "    pooled_refs = get_worm_locs(row, wrm_locs_fldr, results_dict)\n",
    "\n",
    "#Casting dict to df. The algorithm will be resampling from 747 data points (worm locations) \n",
    "pooled_refs_df = pd.DataFrame.from_dict(pooled_refs)\n",
    "pooled_refs_df.head()"
   ]
  },
  {
   "cell_type": "markdown",
   "metadata": {},
   "source": [
    "#### Generating a swarm plot of worm locations relative to DMSO"
   ]
  },
  {
   "cell_type": "code",
   "execution_count": 6,
   "metadata": {},
   "outputs": [
    {
     "name": "stdout",
     "output_type": "stream",
     "text": [
      "32.31303333333333\n"
     ]
    }
   ],
   "source": [
    "for_swarm = pooled_refs_df.copy()\n",
    "for_swarm['Compound'] = 'DMSO'\n",
    "# 1 inch = 25.4mm\n",
    "mm = 25.4\n",
    "# 1200 pixels per 25.4mm\n",
    "px_mm = 1200/mm\n",
    "\n",
    "av_width = 3053.2\n",
    "middle = (av_width/2)/px_mm\n",
    "print(middle)\n",
    "#for_swarm['DMSO'] = pooled_refs_df['DMSO'].apply(lambda x: x/px_mm)\n",
    "#The following transforms the worm location data so that it is respective to the start zone\n",
    "# The start zone is at the center of the image; Start Zone = 0mm\n",
    "#Worms with positive values are closer to the compound, negative values are away from the compound\n",
    "\n",
    "for_swarm['DMSO'] = pooled_refs_df['DMSO'].apply(lambda x: -(x/px_mm)+middle)\n"
   ]
  },
  {
   "cell_type": "code",
   "execution_count": 7,
   "metadata": {},
   "outputs": [
    {
     "name": "stderr",
     "output_type": "stream",
     "text": [
      "C:\\ProgramData\\Anaconda3\\envs\\neuroplant\\lib\\site-packages\\seaborn\\_decorators.py:43: FutureWarning: Pass the following variables as keyword args: x, y. From version 0.12, the only valid positional argument will be `data`, and passing other arguments without an explicit keyword will result in an error or misinterpretation.\n",
      "  FutureWarning\n"
     ]
    },
    {
     "data": {
      "image/png": "[encoded data removed]",
      "text/plain": [
       "<Figure size 144x288 with 1 Axes>"
      ]
     },
     "metadata": {
      "needs_background": "light"
     },
     "output_type": "display_data"
    }
   ],
   "source": [
    "#for_swarm = pooled_refs_df.copy()\n",
    "#for_swarm['Compound'] = 'DMSO'\n",
    "fig, ax = plt.subplots(figsize=(2,4))\n",
    "ax = sns.swarmplot('Compound', 'DMSO', data=for_swarm, size=1)\n",
    "ax.set_ylim(-35,35)\n",
    "ax.set(xlabel=\"N2\", ylabel=\"Worm location in assay arena (mm)\")\n",
    "sns.despine()\n",
    "fig.tight_layout()\n",
    "#plt.rcParams['svg.fonttype'] = 'none'\n",
    "fig.savefig('C:/Users/Emily/Desktop/NPScreen_figs/dmso_swarm.png', dpi=300)"
   ]
  },
  {
   "cell_type": "markdown",
   "metadata": {},
   "source": [
    "### Bootstrapping steps\n",
    "1. Randomly sample groups of 50, 100, 150 ... 300, 350 worms -> hold in an array\n",
    "2. Calculate chemotaxis index for each group of worms\n",
    "3. Iterate random sampling and CI calculation 100 times -> Hold CIs in an array\n",
    "4. Plot"
   ]
  },
  {
   "cell_type": "code",
   "execution_count": 8,
   "metadata": {},
   "outputs": [],
   "source": [
    "# Creating a np array of all worm locations from 2103 dataset to be used for resampling\n",
    "x_dmso = np.asarray(pooled_refs_df['DMSO'])\n",
    "# Generating sample pools of varying sizes\n",
    "sample_sizes = [50, 100, 150, 200, 250, 300, 350]\n",
    "# Resampling each sample size 100x\n",
    "n = 100"
   ]
  },
  {
   "cell_type": "code",
   "execution_count": 9,
   "metadata": {},
   "outputs": [],
   "source": [
    "# We need to generate a function to calculate the chemotaxis indices for each bootstrapped sample. The chemotaxis index\n",
    "# will be used to assess where the variance for the model levels off\n",
    "\n",
    "def calc_chemotaxis_index(worms):\n",
    "    \n",
    "    ## Assign features to zones of the plate\n",
    "    left_area_boundary = int(4/9*3053) #Need to generate a more accurate boundary value\n",
    "    #print(left_area_boundary)\n",
    "    right_area_boundary = int(5/9*3053) #Need to generate a more accurate boundary value\n",
    "    #print(right_area_boundary)\n",
    "\n",
    "    left_side_worms = worms[worms['X'] <= left_area_boundary]\n",
    "    #middle_w = worms[worms['centroid-1'] < right_area_boundary]\n",
    "    #middle_worms = middle_w[middle_w['centroid-1'] >left_area_boundary]\n",
    "    right_side_worms = worms[worms['X'] >= right_area_boundary]\n",
    "\n",
    "    ## Calculate chemotaxis index\n",
    "    worms_in_left_region = len(left_side_worms)\n",
    "    #worms_in_middle_region = len(middle_worms)\n",
    "    worms_in_right_region = len(right_side_worms)\n",
    "    total_worms_found = len(right_side_worms) + len(left_side_worms)\n",
    "    #print('Left; ' + str(worms_in_left_region) + '   Right: ' + str(worms_in_right_region))\n",
    "\n",
    "    \n",
    "\n",
    "    try:\n",
    "        chemotaxis_index = ((worms_in_left_region - worms_in_right_region) \n",
    "                        / (worms_in_left_region + worms_in_right_region))\n",
    "        return chemotaxis_index\n",
    "\n",
    "    except ZeroDivisionError:\n",
    "        return 0\n",
    "    "
   ]
  },
  {
   "cell_type": "markdown",
   "metadata": {},
   "source": [
    "### The following will generate a wide dataframe of the bootstrapped values\n",
    "<p> The dfferent plotting approaches below require different dataframe formats (wide vs long). We create functions to generate both </p>"
   ]
  },
  {
   "cell_type": "code",
   "execution_count": 10,
   "metadata": {},
   "outputs": [
    {
     "data": {
      "text/html": [
       "<div>\n",
       "<style scoped>\n",
       "    .dataframe tbody tr th:only-of-type {\n",
       "        vertical-align: middle;\n",
       "    }\n",
       "\n",
       "    .dataframe tbody tr th {\n",
       "        vertical-align: top;\n",
       "    }\n",
       "\n",
       "    .dataframe thead th {\n",
       "        text-align: right;\n",
       "    }\n",
       "</style>\n",
       "<table border=\"1\" class=\"dataframe\">\n",
       "  <thead>\n",
       "    <tr style=\"text-align: right;\">\n",
       "      <th></th>\n",
       "      <th>50</th>\n",
       "      <th>100</th>\n",
       "      <th>150</th>\n",
       "      <th>200</th>\n",
       "      <th>250</th>\n",
       "      <th>300</th>\n",
       "      <th>350</th>\n",
       "    </tr>\n",
       "  </thead>\n",
       "  <tbody>\n",
       "    <tr>\n",
       "      <th>0</th>\n",
       "      <td>-0.095238</td>\n",
       "      <td>-0.010753</td>\n",
       "      <td>0.123077</td>\n",
       "      <td>0.233333</td>\n",
       "      <td>0.093333</td>\n",
       "      <td>0.153558</td>\n",
       "      <td>0.110390</td>\n",
       "    </tr>\n",
       "    <tr>\n",
       "      <th>1</th>\n",
       "      <td>0.121951</td>\n",
       "      <td>0.000000</td>\n",
       "      <td>0.093525</td>\n",
       "      <td>0.043956</td>\n",
       "      <td>0.190909</td>\n",
       "      <td>0.078652</td>\n",
       "      <td>0.173077</td>\n",
       "    </tr>\n",
       "    <tr>\n",
       "      <th>2</th>\n",
       "      <td>-0.021277</td>\n",
       "      <td>0.075269</td>\n",
       "      <td>0.085271</td>\n",
       "      <td>0.168539</td>\n",
       "      <td>0.194570</td>\n",
       "      <td>0.173432</td>\n",
       "      <td>0.100629</td>\n",
       "    </tr>\n",
       "    <tr>\n",
       "      <th>3</th>\n",
       "      <td>0.173913</td>\n",
       "      <td>0.195652</td>\n",
       "      <td>0.269841</td>\n",
       "      <td>0.057471</td>\n",
       "      <td>0.114155</td>\n",
       "      <td>0.181818</td>\n",
       "      <td>0.056604</td>\n",
       "    </tr>\n",
       "    <tr>\n",
       "      <th>4</th>\n",
       "      <td>0.090909</td>\n",
       "      <td>0.066667</td>\n",
       "      <td>-0.015152</td>\n",
       "      <td>0.166667</td>\n",
       "      <td>0.236364</td>\n",
       "      <td>0.088235</td>\n",
       "      <td>0.130719</td>\n",
       "    </tr>\n",
       "  </tbody>\n",
       "</table>\n",
       "</div>"
      ],
      "text/plain": [
       "        50        100       150       200       250       300       350\n",
       "0 -0.095238 -0.010753  0.123077  0.233333  0.093333  0.153558  0.110390\n",
       "1  0.121951  0.000000  0.093525  0.043956  0.190909  0.078652  0.173077\n",
       "2 -0.021277  0.075269  0.085271  0.168539  0.194570  0.173432  0.100629\n",
       "3  0.173913  0.195652  0.269841  0.057471  0.114155  0.181818  0.056604\n",
       "4  0.090909  0.066667 -0.015152  0.166667  0.236364  0.088235  0.130719"
      ]
     },
     "execution_count": 10,
     "metadata": {},
     "output_type": "execute_result"
    }
   ],
   "source": [
    "CI_df = pd.DataFrame(columns=sample_sizes)\n",
    "np.random.seed(12345)\n",
    "for j in sample_sizes:\n",
    "    CIs = []\n",
    "    #for n in sample_sizes:\n",
    "    i=0\n",
    "    while i < 100:\n",
    "\n",
    "        resample = np.random.choice(a=x_dmso, size=j, replace=True)\n",
    "        resample_df = pd.DataFrame(resample, columns=['X'])\n",
    "        CI = calc_chemotaxis_index(resample_df)\n",
    "        CIs.append(CI)\n",
    "        i += 1\n",
    "    CI_df[j]= CIs\n",
    "    #print(len(CIs))\n",
    "CI_df.head()"
   ]
  },
  {
   "cell_type": "markdown",
   "metadata": {},
   "source": [
    "### The following will generate a long dataframe"
   ]
  },
  {
   "cell_type": "code",
   "execution_count": 11,
   "metadata": {},
   "outputs": [],
   "source": [
    "CI_df_long = pd.DataFrame(columns=['CI', 'N'])\n",
    "np.random.seed(12345)\n",
    "for j in sample_sizes:\n",
    "    CIs = []\n",
    "    #for n in sample_sizes:\n",
    "    i=0\n",
    "    while i < 100:\n",
    "        \n",
    "        resample = np.random.choice(a=x_dmso, size=j, replace=True)\n",
    "        resample_df_long = pd.DataFrame(resample, columns=['X'])\n",
    "        CI = (calc_chemotaxis_index(resample_df_long), j)\n",
    "        CIs.append(CI)\n",
    "        i += 1\n",
    "    CI_df_long = CI_df_long.append(pd.DataFrame(CIs, columns=['CI', 'N']))\n"
   ]
  },
  {
   "cell_type": "code",
   "execution_count": 12,
   "metadata": {},
   "outputs": [],
   "source": [
    "v = CI_df_long.groupby('N').agg(np.var).reset_index()\n",
    "CI_df_long['N'] = CI_df_long.N.astype(int)"
   ]
  },
  {
   "cell_type": "code",
   "execution_count": 13,
   "metadata": {
    "scrolled": true
   },
   "outputs": [
    {
     "data": {
      "text/html": [
       "<div>\n",
       "<style scoped>\n",
       "    .dataframe tbody tr th:only-of-type {\n",
       "        vertical-align: middle;\n",
       "    }\n",
       "\n",
       "    .dataframe tbody tr th {\n",
       "        vertical-align: top;\n",
       "    }\n",
       "\n",
       "    .dataframe thead th {\n",
       "        text-align: right;\n",
       "    }\n",
       "</style>\n",
       "<table border=\"1\" class=\"dataframe\">\n",
       "  <thead>\n",
       "    <tr style=\"text-align: right;\">\n",
       "      <th></th>\n",
       "      <th>N</th>\n",
       "      <th>N2</th>\n",
       "    </tr>\n",
       "  </thead>\n",
       "  <tbody>\n",
       "    <tr>\n",
       "      <th>0</th>\n",
       "      <td>50</td>\n",
       "      <td>0.019136</td>\n",
       "    </tr>\n",
       "    <tr>\n",
       "      <th>1</th>\n",
       "      <td>100</td>\n",
       "      <td>0.012323</td>\n",
       "    </tr>\n",
       "    <tr>\n",
       "      <th>2</th>\n",
       "      <td>150</td>\n",
       "      <td>0.006562</td>\n",
       "    </tr>\n",
       "    <tr>\n",
       "      <th>3</th>\n",
       "      <td>200</td>\n",
       "      <td>0.005979</td>\n",
       "    </tr>\n",
       "    <tr>\n",
       "      <th>4</th>\n",
       "      <td>250</td>\n",
       "      <td>0.004587</td>\n",
       "    </tr>\n",
       "    <tr>\n",
       "      <th>5</th>\n",
       "      <td>300</td>\n",
       "      <td>0.004064</td>\n",
       "    </tr>\n",
       "    <tr>\n",
       "      <th>6</th>\n",
       "      <td>350</td>\n",
       "      <td>0.002957</td>\n",
       "    </tr>\n",
       "  </tbody>\n",
       "</table>\n",
       "</div>"
      ],
      "text/plain": [
       "     N        N2\n",
       "0   50  0.019136\n",
       "1  100  0.012323\n",
       "2  150  0.006562\n",
       "3  200  0.005979\n",
       "4  250  0.004587\n",
       "5  300  0.004064\n",
       "6  350  0.002957"
      ]
     },
     "execution_count": 13,
     "metadata": {},
     "output_type": "execute_result"
    }
   ],
   "source": [
    "v = v.rename(columns = {'CI': 'N2'})\n",
    "v"
   ]
  },
  {
   "cell_type": "markdown",
   "metadata": {},
   "source": [
    "### This is the version of the figure that is currently being used in the manuscript. The variance is plotted above the boxplots for each group."
   ]
  },
  {
   "cell_type": "code",
   "execution_count": 19,
   "metadata": {},
   "outputs": [
    {
     "data": {
      "image/png": "[encoded data removed]",
      "text/plain": [
       "<Figure size 720x288 with 2 Axes>"
      ]
     },
     "metadata": {
      "needs_background": "light"
     },
     "output_type": "display_data"
    }
   ],
   "source": [
    "#sns.set(style=\"white\")\n",
    "fig, axes = plt.subplots(nrows=2, ncols=1, figsize=(10, 4), sharex=True, gridspec_kw={'height_ratios': [.75, 2]})\n",
    "\n",
    "axes[0] = sns.pointplot(x='N', y='N2', data=v, linestyle='--', ax=axes[0], markers='.')\n",
    "axes[0].lines[0].set_linestyle(\"--\")\n",
    "axes[0].set(xlabel=\"\", ylabel=\"Variance\")\n",
    "axes[0].tick_params(axis='both', tickdir='in')\n",
    "\n",
    "axes[1] = sns.boxplot(x=\"N\", y=\"CI\", data=CI_df_long, whis=np.inf,\n",
    "                   palette=\"Blues_r\", boxprops=dict(alpha=.7), ax=axes[1])\n",
    "axes[1] = sns.stripplot(x=\"N\", y=\"CI\", data=CI_df_long, size=2, color='.2', ax=axes[1])\n",
    "axes[1].set(xlabel=\"Number of worms resampled\", ylabel=\"Chemotaxis Index\")\n",
    "axes[1].tick_params(axis='both', tickdir='in')\n",
    "axes[1].set_ylim(-1,1)\n",
    "\n",
    "sns.despine()\n",
    "plt.rcParams['svg.fonttype'] = 'none'\n",
    "fig.tight_layout()\n",
    "fig.savefig('C:/Users/Emily/Desktop/NPScreen_figs/Seeded_stackd_bstrap.svg', dpi=300)"
   ]
  },
  {
   "cell_type": "markdown",
   "metadata": {},
   "source": [
    "### Below is the first interation of the bootstrapping plot with an inset of the variance of chemotaxis index for each group"
   ]
  },
  {
   "cell_type": "code",
   "execution_count": 38,
   "metadata": {
    "scrolled": false
   },
   "outputs": [
    {
     "data": {
      "text/plain": [
       "[<matplotlib.lines.Line2D at 0x1abfa40f288>]"
      ]
     },
     "execution_count": 38,
     "metadata": {},
     "output_type": "execute_result"
    },
    {
     "data": {
      "image/png": "[encoded data removed]",
      "text/plain": [
       "<Figure size 720x360 with 2 Axes>"
      ]
     },
     "metadata": {},
     "output_type": "display_data"
    }
   ],
   "source": [
    "\n",
    "sns.set(style=\"darkgrid\")\n",
    "fig, axes = plt.subplots(nrows=1, ncols=1, figsize=(10, 5), constrained_layout=True)\n",
    "axes = sns.boxplot(x=\"N\", y=\"CI\", data=CI_df_long, whis=np.inf,\n",
    "                   palette=\"Blues_r\", boxprops=dict(alpha=.7),ax=axes)\n",
    "axes = sns.stripplot(x=\"N\", y=\"CI\", data=CI_df_long, size=2, color='.2', ax=axes)\n",
    "axes.set(xlabel=\"Number of worms resampled\", ylabel=\"Chemotaxis Index\", ylim=(-1,1))\n",
    "axes.set_title('Bootsrapped Chemotaxis Indices', weight='bold')\n",
    "\n",
    "sns.set_style('white')\n",
    "axins = inset_axes(axes,  \"30%\", \"20%\" ,loc=\"lower right\", borderpad=4)\n",
    "    \n",
    "model5 = np.poly1d(np.polyfit(v.N, v.CI, 5))\n",
    "\n",
    "#define scatterplot\n",
    "polyline = np.linspace(1, 350, 50)\n",
    "sns.scatterplot(x= v.N, y=v.CI, ax=axins)\n",
    "axins.set(xlabel='N', ylabel='CI \\nvariance')\n",
    "\n",
    "#add fitted polynomial curve to scatterplot\n",
    "plt.plot(polyline, model5(polyline), '--', color='red')\n",
    "\n",
    "#plt.savefig('D:/NP_manuscript/figs/1D_bootstrap.png')"
   ]
  },
  {
   "cell_type": "code",
   "execution_count": 123,
   "metadata": {},
   "outputs": [
    {
     "data": {
      "text/plain": [
       "68.79166666666667"
      ]
     },
     "execution_count": 123,
     "metadata": {},
     "output_type": "execute_result"
    }
   ],
   "source": [
    "(25.4/1200)*3250"
   ]
  },
  {
   "cell_type": "code",
   "execution_count": null,
   "metadata": {},
   "outputs": [],
   "source": []
  }
 ],
 "metadata": {
  "kernelspec": {
   "display_name": "Python 3",
   "language": "python",
   "name": "python3"
  },
  "language_info": {
   "codemirror_mode": {
    "name": "ipython",
    "version": 3
   },
   "file_extension": ".py",
   "mimetype": "text/x-python",
   "name": "python",
   "nbconvert_exporter": "python",
   "pygments_lexer": "ipython3",
   "version": "3.7.4"
  }
 },
 "nbformat": 4,
 "nbformat_minor": 2
}
