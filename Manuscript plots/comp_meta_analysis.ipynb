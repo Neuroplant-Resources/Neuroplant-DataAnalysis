{
 "cells": [
  {
   "cell_type": "markdown",
   "id": "arbitrary-network",
   "metadata": {},
   "source": [
    "### Data clean up\n",
    "There is a lot of unecessary data that comes with the Web of Science data downloads. Many of these are blank columns for data that we did not request so we need to clean up the dataframes before analysis"
   ]
  },
  {
   "cell_type": "code",
   "execution_count": 19,
   "id": "furnished-shock",
   "metadata": {},
   "outputs": [],
   "source": [
    "import pandas as pd\n",
    "import pathlib as plb"
   ]
  },
  {
   "cell_type": "code",
   "execution_count": 37,
   "id": "dressed-scout",
   "metadata": {},
   "outputs": [],
   "source": [
    "def clean_up(file):\n",
    "    cols = ['AU', 'TI', 'SO', 'PM','PD', 'PY', 'DI', 'DL']\n",
    "    pubs = pd.read_csv(file, index_col=0, usecols=cols).reset_index()\n",
    "    pubs = pubs.rename(columns={'AU': 'Author', 'TI':'Title', 'SO': 'Journal', 'DI':'DOI', 'DL':'DOI Link', 'PM':'PMID',\n",
    "                                   'PD':'Pub date', 'PY':'Pub year'})\n",
    "    pubs.fillna(0, inplace=True)\n",
    "\n",
    "    pubs['PMID'] = pubs['PMID'].astype(int)\n",
    "    pubs['Pub year'] = pubs['Pub year'].astype(int)\n",
    "    return pubs\n",
    "    \n",
    "    "
   ]
  },
  {
   "cell_type": "markdown",
   "id": "front-newsletter",
   "metadata": {},
   "source": [
    "Reading in the data collected by other team members and combining it into two dataframes. One dataframe contains publications of studies with C. elegans, the other contains studies of other nematodes."
   ]
  },
  {
   "cell_type": "code",
   "execution_count": 38,
   "id": "downtown-familiar",
   "metadata": {},
   "outputs": [
    {
     "name": "stdout",
     "output_type": "stream",
     "text": [
      "2\n",
      "18\n"
     ]
    }
   ],
   "source": [
    "# assign directory\n",
    "directory = plb.Path('/Users/Emily/Desktop/comp_meta_analysis/pubs/')\n",
    " \n",
    "# iterate over files in\n",
    "# that directory\n",
    "other_nems = pd.DataFrame()\n",
    "cel = pd.DataFrame()\n",
    "\n",
    "for f in directory.glob('*.csv'):\n",
    "    if \"other_nematode\" in f.name.lower():\n",
    "        hold = clean_up(f)\n",
    "        other_nems = other_nems.append(hold)\n",
    "\n",
    "    elif (\"cel\" in f.name.lower()) or (\"elegans\" in f.name.lower()):\n",
    "        hold = clean_up(f)\n",
    "\n",
    "        cel = cel.append(hold)\n",
    "    else:\n",
    "        pass\n",
    "print(len(cel))\n",
    "print(len(other_nems))"
   ]
  },
  {
   "cell_type": "markdown",
   "id": "pacific-discussion",
   "metadata": {},
   "source": [
    "Data was also collected from PubMed. We want to cross reference the PubMed and Web of Science datasets to remove any duplicates. To do that we look for duplicate PubMed IDs."
   ]
  },
  {
   "cell_type": "code",
   "execution_count": null,
   "id": "loving-inquiry",
   "metadata": {},
   "outputs": [],
   "source": [
    "\n",
    "\n",
    "ef = pd.read_csv('/Users/Emily/Desktop/comp_meta_analysis/pubs/cleaned/cln_nems_ef.csv', index_col=0).reset_index()\n",
    "other_nems = other_nems.append(ef)\n",
    "other_nems.fillna(0, inplace=True)\n",
    "other_nems['PMID']=other_nems['PMID'].astype(int)\n",
    "print(len(other_nems))"
   ]
  },
  {
   "cell_type": "code",
   "execution_count": 41,
   "id": "turned-memorial",
   "metadata": {},
   "outputs": [
    {
     "name": "stdout",
     "output_type": "stream",
     "text": [
      "53\n"
     ]
    }
   ],
   "source": [
    "ef_cel = pd.read_csv('/Users/Emily/Desktop/comp_meta_analysis/pubs/cleaned/cln_cel_ef.csv', index_col=0).reset_index()\n",
    "cel = cel.append(ef_cel)\n",
    "\n",
    "cel.fillna(0, inplace=True)\n",
    "cel['PMID']=cel['PMID'].astype(int)\n",
    "print(len(cel))"
   ]
  },
  {
   "cell_type": "code",
   "execution_count": 42,
   "id": "distinguished-customs",
   "metadata": {},
   "outputs": [
    {
     "name": "stdout",
     "output_type": "stream",
     "text": [
      "Pmed nems: 91 Crowdsourced: 77\n"
     ]
    }
   ],
   "source": [
    "pubmed_nems = pd.read_csv('/Users/Emily/Desktop/comp_meta_analysis/pubs/cleaned/Pmed_nematode_comps.csv', \n",
    "                         index_col=0)\n",
    "all_nems = other_nems.merge(pubmed_nems, on='PMID', how='right')\n",
    "all_nems = all_nems.loc[all_nems['Relevant'] != 'N']\n",
    "print('Pmed nems: ' + str(len(pubmed_nems)) + ' Crowdsourced: '+ str(len(all_nems)))"
   ]
  },
  {
   "cell_type": "code",
   "execution_count": 44,
   "id": "incorporated-polyester",
   "metadata": {},
   "outputs": [
    {
     "name": "stdout",
     "output_type": "stream",
     "text": [
      "Pmed cel: 56 Crowdsourced: 49\n"
     ]
    }
   ],
   "source": [
    "pubmed_cel = pd.read_csv('/Users/Emily/Desktop/comp_meta_analysis/pubs/cleaned/Pmed_Cel_comps.csv', \n",
    "                         index_col=0).reset_index()\n",
    "all_cel = cel.merge(pubmed_cel, on='PMID', how='right')\n",
    "all_cel = all_cel.loc[all_cel['Relevant'] != 'N']\n",
    "print('Pmed cel: ' + str(len(pubmed_cel)) + ' Crowdsourced: '+ str(len(all_cel)))"
   ]
  },
  {
   "cell_type": "code",
   "execution_count": 45,
   "id": "boring-bloom",
   "metadata": {
    "scrolled": true
   },
   "outputs": [],
   "source": [
    "all_cel.to_csv('/Users/Emily/Desktop/comp_meta_analysis/pubs/cleaned/cln_cel.csv')\n",
    "all_nems.to_csv('/Users/Emily/Desktop/comp_meta_analysis/pubs/cleaned/other_nems.csv')"
   ]
  },
  {
   "cell_type": "markdown",
   "id": "theoretical-cabinet",
   "metadata": {},
   "source": [
    "Not all of the publications that were pulled down from the initial search were considered \"relevant\" and need to be removed from the list."
   ]
  },
  {
   "cell_type": "code",
   "execution_count": 62,
   "id": "molecular-agency",
   "metadata": {},
   "outputs": [
    {
     "name": "stdout",
     "output_type": "stream",
     "text": [
      "Before filter: 56\n",
      "After filter: 33\n"
     ]
    }
   ],
   "source": [
    "anotated_cel = pd.read_csv('/Users/Emily/Desktop/comp_meta_analysis/pubs/cleaned/all_cel.csv',\n",
    "                          index_col=0)\n",
    "print('Before filter: ' + str(len(anoted_cel)))\n",
    "anotated_cel = anotated_cel.loc[anotated_cel['Relevant'] != 'N']\n",
    "print('After filter: ' + str(len(anotated_cel)))"
   ]
  },
  {
   "cell_type": "code",
   "execution_count": 63,
   "id": "statistical-jackson",
   "metadata": {},
   "outputs": [
    {
     "name": "stdout",
     "output_type": "stream",
     "text": [
      "Before filter: 77\n",
      "After filter: 28\n"
     ]
    }
   ],
   "source": [
    "anotated_nems = pd.read_csv('/Users/Emily/Desktop/comp_meta_analysis/pubs/cleaned/all_nems.csv',\n",
    "                            index_col=0)\n",
    "print('Before filter: ' + str(len(anotated_nems)))\n",
    "\n",
    "anotated_nems = anotated_nems.loc[anotated_nems['Relevant'] != 'N']\n",
    "print('After filter: ' + str(len(anotated_nems)))"
   ]
  },
  {
   "cell_type": "code",
   "execution_count": 64,
   "id": "approximate-trust",
   "metadata": {},
   "outputs": [],
   "source": [
    "anotated_cel.to_csv('/Users/Emily/Desktop/comp_meta_analysis/pubs/cleaned/anotated_cel.csv')\n",
    "anotated_nems.to_csv('/Users/Emily/Desktop/comp_meta_analysis/pubs/cleaned/anotated_nems.csv')"
   ]
  },
  {
   "cell_type": "code",
   "execution_count": 65,
   "id": "dutch-welsh",
   "metadata": {
    "scrolled": true
   },
   "outputs": [
    {
     "data": {
      "text/html": [
       "<div>\n",
       "<style scoped>\n",
       "    .dataframe tbody tr th:only-of-type {\n",
       "        vertical-align: middle;\n",
       "    }\n",
       "\n",
       "    .dataframe tbody tr th {\n",
       "        vertical-align: top;\n",
       "    }\n",
       "\n",
       "    .dataframe thead th {\n",
       "        text-align: right;\n",
       "    }\n",
       "</style>\n",
       "<table border=\"1\" class=\"dataframe\">\n",
       "  <thead>\n",
       "    <tr style=\"text-align: right;\">\n",
       "      <th></th>\n",
       "      <th>Author</th>\n",
       "      <th>Title_x</th>\n",
       "      <th>Journal_x</th>\n",
       "      <th>Pub date</th>\n",
       "      <th>Pub year</th>\n",
       "      <th>DOI</th>\n",
       "      <th>DOI Link</th>\n",
       "      <th>PMID</th>\n",
       "      <th>Relevant</th>\n",
       "      <th>Chemotaxis</th>\n",
       "      <th>Other nems</th>\n",
       "      <th>If Y to L, which ones</th>\n",
       "      <th>Other animals</th>\n",
       "      <th>Notes</th>\n",
       "      <th>index</th>\n",
       "      <th>Compound_y</th>\n",
       "      <th>CAS</th>\n",
       "      <th>Title_y</th>\n",
       "      <th>Journal_y</th>\n",
       "    </tr>\n",
       "  </thead>\n",
       "  <tbody>\n",
       "    <tr>\n",
       "      <th>0</th>\n",
       "      <td>Alexpandi, R; Prasanth, MI; Ravi, AV; Balamuru...</td>\n",
       "      <td>Protective effect of neglected plant Diplocycl...</td>\n",
       "      <td>JOURNAL OF PHOTOCHEMISTRY AND PHOTOBIOLOGY B-B...</td>\n",
       "      <td>DEC</td>\n",
       "      <td>2019.0</td>\n",
       "      <td>10.1016/j.jphotobiol.2019.111637</td>\n",
       "      <td>http://dx.doi.org/10.1016/j.jphotobiol.2019.11...</td>\n",
       "      <td>31706086</td>\n",
       "      <td>Y</td>\n",
       "      <td>N</td>\n",
       "      <td>N</td>\n",
       "      <td>0</td>\n",
       "      <td>0</td>\n",
       "      <td>Aging</td>\n",
       "      <td>0</td>\n",
       "      <td>Phytol</td>\n",
       "      <td>150-86-7</td>\n",
       "      <td>Protective effect of neglected plant Diplocycl...</td>\n",
       "      <td>Journal of photochemistry and photobiology. B,...</td>\n",
       "    </tr>\n",
       "    <tr>\n",
       "      <th>1</th>\n",
       "      <td>Sathya, S; Shanmuganathan, B; Balasubramaniam,...</td>\n",
       "      <td>Phytol loaded PLGA nanoparticles regulate the ...</td>\n",
       "      <td>FOOD AND CHEMICAL TOXICOLOGY</td>\n",
       "      <td>FEB</td>\n",
       "      <td>2020.0</td>\n",
       "      <td>10.1016/j.fct.2019.110962</td>\n",
       "      <td>http://dx.doi.org/10.1016/j.fct.2019.110962</td>\n",
       "      <td>31734340</td>\n",
       "      <td>Y</td>\n",
       "      <td>Y*</td>\n",
       "      <td>N</td>\n",
       "      <td>0</td>\n",
       "      <td>0</td>\n",
       "      <td>Assesses how phytol affects chemotaxis toward ...</td>\n",
       "      <td>1</td>\n",
       "      <td>Phytol</td>\n",
       "      <td>150-86-7</td>\n",
       "      <td>Phytol loaded PLGA nanoparticles regulate the ...</td>\n",
       "      <td>Food and chemical toxicology : an internationa...</td>\n",
       "    </tr>\n",
       "    <tr>\n",
       "      <th>2</th>\n",
       "      <td>Wetchakul, P; Goon, JA; Adekoya, AE; Olatunji,...</td>\n",
       "      <td>Traditional tonifying polyherbal infusion, Jat...</td>\n",
       "      <td>BMC COMPLEMENTARY AND ALTERNATIVE MEDICINE</td>\n",
       "      <td>13-Aug</td>\n",
       "      <td>2019.0</td>\n",
       "      <td>10.1186/s12906-019-2626-1</td>\n",
       "      <td>http://dx.doi.org/10.1186/s12906-019-2626-1</td>\n",
       "      <td>31409340</td>\n",
       "      <td>Y</td>\n",
       "      <td>N</td>\n",
       "      <td>N</td>\n",
       "      <td>0</td>\n",
       "      <td>0</td>\n",
       "      <td>0</td>\n",
       "      <td>0</td>\n",
       "      <td>Ellagic acid</td>\n",
       "      <td>476-66-4</td>\n",
       "      <td>Traditional tonifying polyherbal infusion, Jat...</td>\n",
       "      <td>BMC complementary and alternative medicine</td>\n",
       "    </tr>\n",
       "    <tr>\n",
       "      <th>3</th>\n",
       "      <td>Navarro-Hortal, MD; Romero-Marquez, JM; Esteba...</td>\n",
       "      <td>Strawberry (Fragaria x ananassa cv. Romina) me...</td>\n",
       "      <td>FOOD CHEMISTRY</td>\n",
       "      <td>15-Mar</td>\n",
       "      <td>2022.0</td>\n",
       "      <td>10.1016/j.foodchem.2021.131272</td>\n",
       "      <td>http://dx.doi.org/10.1016/j.foodchem.2021.131272</td>\n",
       "      <td>34628121</td>\n",
       "      <td>Y</td>\n",
       "      <td>N</td>\n",
       "      <td>N</td>\n",
       "      <td>0</td>\n",
       "      <td>0</td>\n",
       "      <td>0</td>\n",
       "      <td>1</td>\n",
       "      <td>Ellagic acid</td>\n",
       "      <td>476-66-4</td>\n",
       "      <td>Strawberry (Fragaria × ananassa cv. Romina) me...</td>\n",
       "      <td>Food chemistry</td>\n",
       "    </tr>\n",
       "    <tr>\n",
       "      <th>4</th>\n",
       "      <td>Ndjonka, D; Abladam, ED; Djafsia, B; Ajonina-E...</td>\n",
       "      <td>Anthelmintic activity of phenolic acids from t...</td>\n",
       "      <td>JOURNAL OF HELMINTHOLOGY</td>\n",
       "      <td>DEC</td>\n",
       "      <td>2014.0</td>\n",
       "      <td>10.1017/S0022149X1300045X</td>\n",
       "      <td>http://dx.doi.org/10.1017/S0022149X1300045X</td>\n",
       "      <td>23768773</td>\n",
       "      <td>Y</td>\n",
       "      <td>N</td>\n",
       "      <td>Y</td>\n",
       "      <td>0</td>\n",
       "      <td>0</td>\n",
       "      <td>0</td>\n",
       "      <td>2</td>\n",
       "      <td>Ellagic acid</td>\n",
       "      <td>476-66-4</td>\n",
       "      <td>Anthelmintic activity of phenolic acids from t...</td>\n",
       "      <td>Journal of helminthology</td>\n",
       "    </tr>\n",
       "  </tbody>\n",
       "</table>\n",
       "</div>"
      ],
      "text/plain": [
       "                                              Author  \\\n",
       "0  Alexpandi, R; Prasanth, MI; Ravi, AV; Balamuru...   \n",
       "1  Sathya, S; Shanmuganathan, B; Balasubramaniam,...   \n",
       "2  Wetchakul, P; Goon, JA; Adekoya, AE; Olatunji,...   \n",
       "3  Navarro-Hortal, MD; Romero-Marquez, JM; Esteba...   \n",
       "4  Ndjonka, D; Abladam, ED; Djafsia, B; Ajonina-E...   \n",
       "\n",
       "                                             Title_x  \\\n",
       "0  Protective effect of neglected plant Diplocycl...   \n",
       "1  Phytol loaded PLGA nanoparticles regulate the ...   \n",
       "2  Traditional tonifying polyherbal infusion, Jat...   \n",
       "3  Strawberry (Fragaria x ananassa cv. Romina) me...   \n",
       "4  Anthelmintic activity of phenolic acids from t...   \n",
       "\n",
       "                                           Journal_x Pub date  Pub year  \\\n",
       "0  JOURNAL OF PHOTOCHEMISTRY AND PHOTOBIOLOGY B-B...      DEC    2019.0   \n",
       "1                       FOOD AND CHEMICAL TOXICOLOGY      FEB    2020.0   \n",
       "2         BMC COMPLEMENTARY AND ALTERNATIVE MEDICINE   13-Aug    2019.0   \n",
       "3                                     FOOD CHEMISTRY   15-Mar    2022.0   \n",
       "4                           JOURNAL OF HELMINTHOLOGY      DEC    2014.0   \n",
       "\n",
       "                                DOI  \\\n",
       "0  10.1016/j.jphotobiol.2019.111637   \n",
       "1         10.1016/j.fct.2019.110962   \n",
       "2         10.1186/s12906-019-2626-1   \n",
       "3    10.1016/j.foodchem.2021.131272   \n",
       "4         10.1017/S0022149X1300045X   \n",
       "\n",
       "                                            DOI Link      PMID Relevant  \\\n",
       "0  http://dx.doi.org/10.1016/j.jphotobiol.2019.11...  31706086        Y   \n",
       "1        http://dx.doi.org/10.1016/j.fct.2019.110962  31734340        Y   \n",
       "2        http://dx.doi.org/10.1186/s12906-019-2626-1  31409340        Y   \n",
       "3   http://dx.doi.org/10.1016/j.foodchem.2021.131272  34628121        Y   \n",
       "4        http://dx.doi.org/10.1017/S0022149X1300045X  23768773        Y   \n",
       "\n",
       "  Chemotaxis Other nems If Y to L, which ones Other animals  \\\n",
       "0          N          N                     0             0   \n",
       "1         Y*          N                     0             0   \n",
       "2          N          N                     0             0   \n",
       "3          N          N                     0             0   \n",
       "4          N          Y                     0             0   \n",
       "\n",
       "                                               Notes  index    Compound_y  \\\n",
       "0                                              Aging      0        Phytol   \n",
       "1  Assesses how phytol affects chemotaxis toward ...      1        Phytol   \n",
       "2                                                  0      0  Ellagic acid   \n",
       "3                                                  0      1  Ellagic acid   \n",
       "4                                                  0      2  Ellagic acid   \n",
       "\n",
       "        CAS                                            Title_y  \\\n",
       "0  150-86-7  Protective effect of neglected plant Diplocycl...   \n",
       "1  150-86-7  Phytol loaded PLGA nanoparticles regulate the ...   \n",
       "2  476-66-4  Traditional tonifying polyherbal infusion, Jat...   \n",
       "3  476-66-4  Strawberry (Fragaria × ananassa cv. Romina) me...   \n",
       "4  476-66-4  Anthelmintic activity of phenolic acids from t...   \n",
       "\n",
       "                                           Journal_y  \n",
       "0  Journal of photochemistry and photobiology. B,...  \n",
       "1  Food and chemical toxicology : an internationa...  \n",
       "2         BMC complementary and alternative medicine  \n",
       "3                                     Food chemistry  \n",
       "4                           Journal of helminthology  "
      ]
     },
     "execution_count": 65,
     "metadata": {},
     "output_type": "execute_result"
    }
   ],
   "source": [
    "anotated_cel.head()"
   ]
  },
  {
   "cell_type": "code",
   "execution_count": null,
   "id": "simplified-transsexual",
   "metadata": {},
   "outputs": [],
   "source": []
  }
 ],
 "metadata": {
  "kernelspec": {
   "display_name": "Python 3",
   "language": "python",
   "name": "python3"
  },
  "language_info": {
   "codemirror_mode": {
    "name": "ipython",
    "version": 3
   },
   "file_extension": ".py",
   "mimetype": "text/x-python",
   "name": "python",
   "nbconvert_exporter": "python",
   "pygments_lexer": "ipython3",
   "version": "3.7.4"
  }
 },
 "nbformat": 4,
 "nbformat_minor": 5
}
