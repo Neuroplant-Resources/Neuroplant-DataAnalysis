{
 "cells": [
  {
   "cell_type": "markdown",
   "id": "tracked-orlando",
   "metadata": {},
   "source": [
    "### The following code will generate the plots associated with comparing the performance of the OWL against human scorers"
   ]
  },
  {
   "cell_type": "code",
   "execution_count": 140,
   "id": "devoted-focus",
   "metadata": {},
   "outputs": [],
   "source": [
    "import matplotlib.pyplot as plt\n",
    "import seaborn as sns\n",
    "import numpy as np\n",
    "import pandas as pd\n",
    "from scipy.stats import norm, linregress\n",
    "from statistics import mean, stdev\n",
    "from math import sqrt\n",
    "import statsmodels.api as sm\n",
    "from matplotlib.ticker import MaxNLocator"
   ]
  },
  {
   "cell_type": "code",
   "execution_count": 53,
   "id": "advance-exhibit",
   "metadata": {},
   "outputs": [
    {
     "data": {
      "text/html": [
       "<div>\n",
       "<style scoped>\n",
       "    .dataframe tbody tr th:only-of-type {\n",
       "        vertical-align: middle;\n",
       "    }\n",
       "\n",
       "    .dataframe tbody tr th {\n",
       "        vertical-align: top;\n",
       "    }\n",
       "\n",
       "    .dataframe thead th {\n",
       "        text-align: right;\n",
       "    }\n",
       "</style>\n",
       "<table border=\"1\" class=\"dataframe\">\n",
       "  <thead>\n",
       "    <tr style=\"text-align: right;\">\n",
       "      <th></th>\n",
       "      <th>Image_ID</th>\n",
       "      <th>Scanner_Slot/Plate</th>\n",
       "      <th>Well</th>\n",
       "      <th>Strain</th>\n",
       "      <th>OWL_Count</th>\n",
       "      <th>Person1_Count</th>\n",
       "      <th>Person2_Count</th>\n",
       "      <th>Person1</th>\n",
       "      <th>Person2</th>\n",
       "    </tr>\n",
       "    <tr>\n",
       "      <th>Compound</th>\n",
       "      <th></th>\n",
       "      <th></th>\n",
       "      <th></th>\n",
       "      <th></th>\n",
       "      <th></th>\n",
       "      <th></th>\n",
       "      <th></th>\n",
       "      <th></th>\n",
       "      <th></th>\n",
       "    </tr>\n",
       "  </thead>\n",
       "  <tbody>\n",
       "    <tr>\n",
       "      <th>Water</th>\n",
       "      <td>S1_008</td>\n",
       "      <td>4.0</td>\n",
       "      <td>B</td>\n",
       "      <td>N2</td>\n",
       "      <td>366.0</td>\n",
       "      <td>627.0</td>\n",
       "      <td>584.0</td>\n",
       "      <td>Ehsan</td>\n",
       "      <td>Tessa</td>\n",
       "    </tr>\n",
       "    <tr>\n",
       "      <th>Water</th>\n",
       "      <td>S1_015</td>\n",
       "      <td>4.0</td>\n",
       "      <td>B</td>\n",
       "      <td>N2</td>\n",
       "      <td>183.0</td>\n",
       "      <td>268.0</td>\n",
       "      <td>261.0</td>\n",
       "      <td>Ehsan</td>\n",
       "      <td>Tessa</td>\n",
       "    </tr>\n",
       "    <tr>\n",
       "      <th>DMSO</th>\n",
       "      <td>S1_004</td>\n",
       "      <td>2.0</td>\n",
       "      <td>D</td>\n",
       "      <td>N2</td>\n",
       "      <td>451.0</td>\n",
       "      <td>666.0</td>\n",
       "      <td>745.0</td>\n",
       "      <td>Ehsan</td>\n",
       "      <td>Chandni</td>\n",
       "    </tr>\n",
       "    <tr>\n",
       "      <th>DMSO</th>\n",
       "      <td>S1_008</td>\n",
       "      <td>4.0</td>\n",
       "      <td>D</td>\n",
       "      <td>N2</td>\n",
       "      <td>372.0</td>\n",
       "      <td>577.0</td>\n",
       "      <td>679.0</td>\n",
       "      <td>Ehsan</td>\n",
       "      <td>Chandni</td>\n",
       "    </tr>\n",
       "    <tr>\n",
       "      <th>DMSO</th>\n",
       "      <td>S1_015</td>\n",
       "      <td>4.0</td>\n",
       "      <td>D</td>\n",
       "      <td>N2</td>\n",
       "      <td>245.0</td>\n",
       "      <td>345.0</td>\n",
       "      <td>359.0</td>\n",
       "      <td>Ehsan</td>\n",
       "      <td>Chandni</td>\n",
       "    </tr>\n",
       "  </tbody>\n",
       "</table>\n",
       "</div>"
      ],
      "text/plain": [
       "         Image_ID  Scanner_Slot/Plate Well Strain  OWL_Count  Person1_Count  \\\n",
       "Compound                                                                      \n",
       "Water      S1_008                 4.0    B     N2      366.0          627.0   \n",
       "Water      S1_015                 4.0    B     N2      183.0          268.0   \n",
       "DMSO       S1_004                 2.0    D     N2      451.0          666.0   \n",
       "DMSO       S1_008                 4.0    D     N2      372.0          577.0   \n",
       "DMSO       S1_015                 4.0    D     N2      245.0          345.0   \n",
       "\n",
       "          Person2_Count Person1  Person2  \n",
       "Compound                                  \n",
       "Water             584.0   Ehsan    Tessa  \n",
       "Water             261.0   Ehsan    Tessa  \n",
       "DMSO              745.0   Ehsan  Chandni  \n",
       "DMSO              679.0   Ehsan  Chandni  \n",
       "DMSO              359.0   Ehsan  Chandni  "
      ]
     },
     "execution_count": 53,
     "metadata": {},
     "output_type": "execute_result"
    }
   ],
   "source": [
    "combined = pd.read_csv('C:/Users/Emily/Desktop/UL_analysis/S1_manual_counts/HvA_combined.csv', index_col=0)\n",
    "counts = pd.read_csv('C:/Users/Emily/Desktop/UL_analysis/Manual vs OWL counts.csv', index_col=0)\n",
    "hva = counts.iloc[:, 0:9].copy() \n",
    "hva.drop(hva.tail(3).index,inplace=True)\n",
    "hva.tail()"
   ]
  },
  {
   "cell_type": "markdown",
   "id": "dense-violin",
   "metadata": {},
   "source": [
    "### Total Worms: (H1,H2) vs OWL"
   ]
  },
  {
   "cell_type": "markdown",
   "id": "amended-crime",
   "metadata": {},
   "source": [
    "1. Calculating regression stats for total worms counted by Humans vs OWL"
   ]
  },
  {
   "cell_type": "code",
   "execution_count": 75,
   "id": "canadian-desperate",
   "metadata": {},
   "outputs": [],
   "source": [
    "h1_counts = hva['Person1_Count']\n",
    "h2_counts = hva['Person2_Count']\n",
    "OWL_counts = hva['OWL_Count']"
   ]
  },
  {
   "cell_type": "code",
   "execution_count": 3,
   "id": "fleet-enemy",
   "metadata": {},
   "outputs": [
    {
     "name": "stdout",
     "output_type": "stream",
     "text": [
      "0.5194478243710937 39.713378430356016 0.9011659862826732 1.2417592965088699e-14 0.04164368226154043\n",
      "Pearson's correlation coefficient: 0.901\n"
     ]
    }
   ],
   "source": [
    "h1c_df = pd.DataFrame(list(zip(OWL_counts, h1_counts)),\n",
    "               columns =['OWL', 'Human']).dropna()\n",
    "\n",
    "h2c_df = pd.DataFrame(list(zip(OWL_counts, h2_counts)),\n",
    "               columns =['OWL', 'Human']).dropna()\n",
    "longc = h1c_df.append(h2c_df)\n",
    "\n",
    "\n",
    "slope, intercept, r_value, p_value, std_err = linregress(longc['Human'], longc['OWL'])\n",
    "print(slope, intercept, r_value, p_value, std_err)\n",
    "print(f\"Pearson's correlation coefficient: {r_value:.3f}\")"
   ]
  },
  {
   "cell_type": "code",
   "execution_count": 4,
   "id": "southeast-parent",
   "metadata": {},
   "outputs": [
    {
     "name": "stdout",
     "output_type": "stream",
     "text": [
      "                            OLS Regression Results                            \n",
      "==============================================================================\n",
      "Dep. Variable:                    OWL   R-squared:                       0.812\n",
      "Model:                            OLS   Adj. R-squared:                  0.807\n",
      "Method:                 Least Squares   F-statistic:                     155.6\n",
      "Date:                Wed, 03 May 2023   Prob (F-statistic):           1.24e-14\n",
      "Time:                        14:01:16   Log-Likelihood:                -193.12\n",
      "No. Observations:                  38   AIC:                             390.2\n",
      "Df Residuals:                      36   BIC:                             393.5\n",
      "Df Model:                           1                                         \n",
      "Covariance Type:            nonrobust                                         \n",
      "==============================================================================\n",
      "                 coef    std err          t      P>|t|      [0.025      0.975]\n",
      "------------------------------------------------------------------------------\n",
      "const         39.7134     19.135      2.075      0.045       0.906      78.520\n",
      "Human          0.5194      0.042     12.474      0.000       0.435       0.604\n",
      "==============================================================================\n",
      "Omnibus:                        5.082   Durbin-Watson:                   1.812\n",
      "Prob(Omnibus):                  0.079   Jarque-Bera (JB):                3.665\n",
      "Skew:                          -0.660   Prob(JB):                        0.160\n",
      "Kurtosis:                       3.755   Cond. No.                     1.35e+03\n",
      "==============================================================================\n",
      "\n",
      "Warnings:\n",
      "[1] Standard Errors assume that the covariance matrix of the errors is correctly specified.\n",
      "[2] The condition number is large, 1.35e+03. This might indicate that there are\n",
      "strong multicollinearity or other numerical problems.\n"
     ]
    }
   ],
   "source": [
    "h_X = longc['Human']\n",
    "O_Y = longc['OWL']\n",
    "h_X = sm.add_constant(h_X)\n",
    "hvo_counts_r2 = sm.OLS(O_Y, h_X).fit()\n",
    "print(hvo_counts_r2.summary())"
   ]
  },
  {
   "cell_type": "markdown",
   "id": "vocational-auckland",
   "metadata": {},
   "source": [
    "2. Calculating regression stats for total worms counted between humans: H1 vs H2"
   ]
  },
  {
   "cell_type": "code",
   "execution_count": 5,
   "id": "instructional-domestic",
   "metadata": {},
   "outputs": [
    {
     "name": "stdout",
     "output_type": "stream",
     "text": [
      "0.8458484000557978 74.73390549191976 0.9097637723875345 6.696076439924178e-08 0.09360945644872014\n",
      "Pearson's correlation coefficient: 0.910\n"
     ]
    }
   ],
   "source": [
    "h1h2 = pd.DataFrame(list(zip(h1_counts, h2_counts)),\n",
    "               columns =['H1', 'H2']).dropna()\n",
    "\n",
    "slope, intercept, r_value, p_value, std_err = linregress(h1h2['H1'], h1h2['H2'])\n",
    "print(slope, intercept, r_value, p_value, std_err)\n",
    "print(f\"Pearson's correlation coefficient: {r_value:.3f}\")"
   ]
  },
  {
   "cell_type": "code",
   "execution_count": 6,
   "id": "swedish-intersection",
   "metadata": {},
   "outputs": [
    {
     "name": "stdout",
     "output_type": "stream",
     "text": [
      "                            OLS Regression Results                            \n",
      "==============================================================================\n",
      "Dep. Variable:                     H2   R-squared:                       0.828\n",
      "Model:                            OLS   Adj. R-squared:                  0.818\n",
      "Method:                 Least Squares   F-statistic:                     81.65\n",
      "Date:                Wed, 03 May 2023   Prob (F-statistic):           6.70e-08\n",
      "Time:                        14:01:20   Log-Likelihood:                -105.48\n",
      "No. Observations:                  19   AIC:                             215.0\n",
      "Df Residuals:                      17   BIC:                             216.9\n",
      "Df Model:                           1                                         \n",
      "Covariance Type:            nonrobust                                         \n",
      "==============================================================================\n",
      "                 coef    std err          t      P>|t|      [0.025      0.975]\n",
      "------------------------------------------------------------------------------\n",
      "const         74.7339     42.805      1.746      0.099     -15.577     165.044\n",
      "H1             0.8458      0.094      9.036      0.000       0.648       1.043\n",
      "==============================================================================\n",
      "Omnibus:                        0.152   Durbin-Watson:                   1.140\n",
      "Prob(Omnibus):                  0.927   Jarque-Bera (JB):                0.153\n",
      "Skew:                           0.151   Prob(JB):                        0.926\n",
      "Kurtosis:                       2.680   Cond. No.                     1.29e+03\n",
      "==============================================================================\n",
      "\n",
      "Warnings:\n",
      "[1] Standard Errors assume that the covariance matrix of the errors is correctly specified.\n",
      "[2] The condition number is large, 1.29e+03. This might indicate that there are\n",
      "strong multicollinearity or other numerical problems.\n"
     ]
    },
    {
     "name": "stderr",
     "output_type": "stream",
     "text": [
      "C:\\ProgramData\\Anaconda3\\envs\\neuroplant\\lib\\site-packages\\scipy\\stats\\stats.py:1604: UserWarning: kurtosistest only valid for n>=20 ... continuing anyway, n=19\n",
      "  \"anyway, n=%i\" % int(n))\n"
     ]
    }
   ],
   "source": [
    "h_X = h1h2['H1']\n",
    "h_Y = h1h2['H2']\n",
    "h_X = sm.add_constant(h_X)\n",
    "hvh_counts_r2 = sm.OLS(h_Y, h_X).fit()\n",
    "print(hvh_counts_r2.summary())"
   ]
  },
  {
   "cell_type": "markdown",
   "id": "copyrighted-diameter",
   "metadata": {},
   "source": [
    "3. Generating the regression plot comparing the total worm counts for Humans v OWL and H1 v H2"
   ]
  },
  {
   "cell_type": "code",
   "execution_count": 13,
   "id": "accomplished-thriller",
   "metadata": {},
   "outputs": [
    {
     "name": "stderr",
     "output_type": "stream",
     "text": [
      "C:\\ProgramData\\Anaconda3\\envs\\neuroplant\\lib\\site-packages\\seaborn\\_decorators.py:43: FutureWarning: Pass the following variables as keyword args: x, y. From version 0.12, the only valid positional argument will be `data`, and passing other arguments without an explicit keyword will result in an error or misinterpretation.\n",
      "  FutureWarning\n",
      "C:\\ProgramData\\Anaconda3\\envs\\neuroplant\\lib\\site-packages\\seaborn\\_decorators.py:43: FutureWarning: Pass the following variables as keyword args: x, y. From version 0.12, the only valid positional argument will be `data`, and passing other arguments without an explicit keyword will result in an error or misinterpretation.\n",
      "  FutureWarning\n"
     ]
    },
    {
     "data": {
      "text/plain": [
       "<matplotlib.legend.Legend at 0x283a3024d88>"
      ]
     },
     "execution_count": 13,
     "metadata": {},
     "output_type": "execute_result"
    },
    {
     "data": {
      "image/png": "[encoded data removed]",
      "text/plain": [
       "<Figure size 360x360 with 1 Axes>"
      ]
     },
     "metadata": {
      "needs_background": "light"
     },
     "output_type": "display_data"
    }
   ],
   "source": [
    "fig, ax = plt.subplots(figsize=(5,5))\n",
    "\n",
    "ax = sns.regplot(longc['Human'], longc['OWL'], scatter=False,\n",
    "    fit_reg = True, color = 'black', label='Human v OWL', line_kws={'linewidth':.75, 'linestyle': '--'})\n",
    "ax = sns.regplot(hva['Person1_Count'], hva['Person2_Count'], scatter=False,\n",
    "    fit_reg = True, color = 'blue', label='Human v Human' ,line_kws={'linewidth':.75})\n",
    "\n",
    "\n",
    "ax.set_xlabel('')\n",
    "ax.set_ylabel('')\n",
    "ax.set(xlim=(100,700), ylim=(100, 700), title='Total worms counted')\n",
    "ax.tick_params(axis=\"both\",direction=\"in\")\n",
    "sns.despine(offset=10)\n",
    "#ax.legend()\n",
    "#plt.savefig('C:/Users/Emily/Desktop/NPScreen_figs/HvO_totalwrms.svg')"
   ]
  },
  {
   "cell_type": "markdown",
   "id": "beneficial-travel",
   "metadata": {},
   "source": [
    "4. Generating residual plots for the linear regressions above"
   ]
  },
  {
   "cell_type": "code",
   "execution_count": 238,
   "id": "handmade-middle",
   "metadata": {
    "scrolled": false
   },
   "outputs": [
    {
     "data": {
      "image/png": "[encoded data removed]",
      "text/plain": [
       "<Figure size 288x216 with 2 Axes>"
      ]
     },
     "metadata": {
      "needs_background": "light"
     },
     "output_type": "display_data"
    }
   ],
   "source": [
    "fig, (ax1, ax2) = plt.subplots(figsize=(4,3), nrows=2, ncols=1)\n",
    "\n",
    "sns.residplot(longc['Human'], longc['OWL'], ax=ax1, scatter_kws={'s':4})\n",
    "ax1.set_ylabel('Residuals')\n",
    "ax1.set_xlabel('Human v OWL')\n",
    "ax1.set_ylim(-100,100)\n",
    "ax1.set_xlim(100,700)\n",
    "ax1.tick_params(axis='both',direction=\"in\")\n",
    "ax1.xaxis.set_ticks(np.arange(100, 701, 600))\n",
    "\n",
    "\n",
    "sns.residplot(hva['Person1_Count'], hva['Person2_Count'], ax=ax2, scatter_kws={'s':4})\n",
    "\n",
    "ax2.set_ylabel('Residuals')\n",
    "ax2.set_xlabel('Human v Human')\n",
    "ax2.set_ylim(-100,100)\n",
    "ax2.set_xlim(100,700)\n",
    "ax2.tick_params(axis='both',direction=\"in\")\n",
    "ax2.xaxis.set_ticks(np.arange(100, 701, 600))\n",
    "\n",
    "#plt.xticks(np.arange(100, 701, 600))\n",
    "sns.despine(offset=10)\n",
    "fig.tight_layout()\n",
    "\n",
    "plt.savefig('C:/Users/Emily/Desktop/NPScreen_figs/HvO_totalwrms_resids_smoosh.svg')"
   ]
  },
  {
   "cell_type": "markdown",
   "id": "dressed-nerve",
   "metadata": {},
   "source": [
    "### Mean position: (H1, H2) vs OWL"
   ]
  },
  {
   "cell_type": "markdown",
   "id": "other-providence",
   "metadata": {},
   "source": [
    "1. Generating a dataframe of the mean worm position for each scoring regime"
   ]
  },
  {
   "cell_type": "code",
   "execution_count": 18,
   "id": "early-cincinnati",
   "metadata": {},
   "outputs": [],
   "source": [
    "g = combined.groupby(['FileName', 'Counter']).mean().reset_index()\n",
    "h1 = g.loc[g['Counter']=='H1']['X']\n",
    "h2 = g.loc[g['Counter']=='H2']['X']\n",
    "OWL = g.loc[g['Counter']=='Auto']['X']\n",
    "\n",
    "xs = pd.DataFrame(list(zip(OWL, h1, h2)),\n",
    "               columns =['OWL', 'H1', 'H2'])"
   ]
  },
  {
   "cell_type": "markdown",
   "id": "located-panama",
   "metadata": {},
   "source": [
    "2. Calculating the regressions stats comparing the mean position between two human scorers (H1 v H2)"
   ]
  },
  {
   "cell_type": "code",
   "execution_count": 19,
   "id": "amended-window",
   "metadata": {
    "scrolled": true
   },
   "outputs": [
    {
     "name": "stdout",
     "output_type": "stream",
     "text": [
      "0.9964597099691599 -0.08452613285382693 0.9961257883029415 2.15276226628817e-19 0.02133569164122456\n",
      "Pearson's correlation coefficient: 0.996\n"
     ]
    }
   ],
   "source": [
    "slope, intercept, r_value, p_value, std_err = linregress(xs['H1'], xs['H2'])\n",
    "print(slope, intercept, r_value, p_value, std_err)\n",
    "print(f\"Pearson's correlation coefficient: {r_value:.3f}\")"
   ]
  },
  {
   "cell_type": "code",
   "execution_count": 20,
   "id": "figured-harvey",
   "metadata": {},
   "outputs": [
    {
     "name": "stdout",
     "output_type": "stream",
     "text": [
      "                                 OLS Regression Results                                \n",
      "=======================================================================================\n",
      "Dep. Variable:                     H2   R-squared (uncentered):                   0.993\n",
      "Model:                            OLS   Adj. R-squared (uncentered):              0.993\n",
      "Method:                 Least Squares   F-statistic:                              2516.\n",
      "Date:                Wed, 03 May 2023   Prob (F-statistic):                    8.56e-21\n",
      "Time:                        14:50:18   Log-Likelihood:                         -24.662\n",
      "No. Observations:                  19   AIC:                                      51.32\n",
      "Df Residuals:                      18   BIC:                                      52.27\n",
      "Df Model:                           1                                                  \n",
      "Covariance Type:            nonrobust                                                  \n",
      "==============================================================================\n",
      "                 coef    std err          t      P>|t|      [0.025      0.975]\n",
      "------------------------------------------------------------------------------\n",
      "H1             0.9940      0.020     50.162      0.000       0.952       1.036\n",
      "==============================================================================\n",
      "Omnibus:                        0.967   Durbin-Watson:                   2.477\n",
      "Prob(Omnibus):                  0.617   Jarque-Bera (JB):                0.233\n",
      "Skew:                          -0.260   Prob(JB):                        0.890\n",
      "Kurtosis:                       3.159   Cond. No.                         1.00\n",
      "==============================================================================\n",
      "\n",
      "Warnings:\n",
      "[1] Standard Errors assume that the covariance matrix of the errors is correctly specified.\n"
     ]
    }
   ],
   "source": [
    "hmn_X = xs['H1']\n",
    "hmn_Y = xs['H2']\n",
    "h_X = sm.add_constant(hmn_X)\n",
    "hvh_mn_r2 = sm.OLS(hmn_Y, hmn_X).fit()\n",
    "print(hvh_mn_r2.summary())"
   ]
  },
  {
   "cell_type": "markdown",
   "id": "brutal-psychology",
   "metadata": {},
   "source": [
    "3. Generating the regression stats comparing mean position between humans (H1, H2) and OWL"
   ]
  },
  {
   "cell_type": "code",
   "execution_count": 21,
   "id": "other-treat",
   "metadata": {},
   "outputs": [
    {
     "name": "stdout",
     "output_type": "stream",
     "text": [
      "0.774261178490022 -0.12350559860479393 0.9782553619582498 3.429496328466577e-26 0.027359065808229457\n",
      "Pearson's correlation coefficient: 0.978\n"
     ]
    }
   ],
   "source": [
    "h1_df = pd.DataFrame(list(zip(OWL, h1)),\n",
    "               columns =['OWL', 'Human'])\n",
    "\n",
    "h2_df = pd.DataFrame(list(zip(OWL, h2)),\n",
    "               columns =['OWL', 'Human'])\n",
    "long = h1_df.append(h2_df)\n",
    "\n",
    "slope, intercept, r_value, p_value, std_err = linregress(long['Human'], long['OWL'])\n",
    "print(slope, intercept, r_value, p_value, std_err)\n",
    "print(f\"Pearson's correlation coefficient: {r_value:.3f}\")"
   ]
  },
  {
   "cell_type": "code",
   "execution_count": 22,
   "id": "chronic-friend",
   "metadata": {},
   "outputs": [
    {
     "name": "stdout",
     "output_type": "stream",
     "text": [
      "                            OLS Regression Results                            \n",
      "==============================================================================\n",
      "Dep. Variable:                    OWL   R-squared:                       0.957\n",
      "Model:                            OLS   Adj. R-squared:                  0.956\n",
      "Method:                 Least Squares   F-statistic:                     800.9\n",
      "Date:                Wed, 03 May 2023   Prob (F-statistic):           3.43e-26\n",
      "Time:                        14:50:25   Log-Likelihood:                -72.880\n",
      "No. Observations:                  38   AIC:                             149.8\n",
      "Df Residuals:                      36   BIC:                             153.0\n",
      "Df Model:                           1                                         \n",
      "Covariance Type:            nonrobust                                         \n",
      "==============================================================================\n",
      "                 coef    std err          t      P>|t|      [0.025      0.975]\n",
      "------------------------------------------------------------------------------\n",
      "const         -0.1235      0.288     -0.429      0.671      -0.708       0.461\n",
      "Human          0.7743      0.027     28.300      0.000       0.719       0.830\n",
      "==============================================================================\n",
      "Omnibus:                        6.137   Durbin-Watson:                   2.023\n",
      "Prob(Omnibus):                  0.046   Jarque-Bera (JB):                4.729\n",
      "Skew:                           0.708   Prob(JB):                       0.0940\n",
      "Kurtosis:                       3.990   Cond. No.                         11.1\n",
      "==============================================================================\n",
      "\n",
      "Warnings:\n",
      "[1] Standard Errors assume that the covariance matrix of the errors is correctly specified.\n"
     ]
    }
   ],
   "source": [
    "hmn_X = long['Human']\n",
    "Omn_Y = long['OWL']\n",
    "hmn_X = sm.add_constant(hmn_X)\n",
    "hvo_mn_r2 = sm.OLS(Omn_Y, hmn_X).fit()\n",
    "print(hvo_mn_r2.summary())"
   ]
  },
  {
   "cell_type": "markdown",
   "id": "premier-finding",
   "metadata": {},
   "source": [
    "4. Plotting the regression analysis"
   ]
  },
  {
   "cell_type": "code",
   "execution_count": 22,
   "id": "portuguese-mailman",
   "metadata": {
    "scrolled": true
   },
   "outputs": [
    {
     "name": "stderr",
     "output_type": "stream",
     "text": [
      "C:\\ProgramData\\Anaconda3\\envs\\neuroplant\\lib\\site-packages\\seaborn\\_decorators.py:43: FutureWarning: Pass the following variables as keyword args: x, y. From version 0.12, the only valid positional argument will be `data`, and passing other arguments without an explicit keyword will result in an error or misinterpretation.\n",
      "  FutureWarning\n"
     ]
    },
    {
     "data": {
      "image/png": "[encoded data removed]",
      "text/plain": [
       "<Figure size 360x360 with 1 Axes>"
      ]
     },
     "metadata": {
      "needs_background": "light"
     },
     "output_type": "display_data"
    }
   ],
   "source": [
    "fig, ax = plt.subplots(figsize=(5,5))\n",
    "ax = sns.regplot(long['Human'], long['OWL'], scatter = False,\n",
    "    fit_reg = True, color = 'black', label=\"Human v OWL\",line_kws={'linewidth':.75, 'linestyle':'--'})\n",
    "ax = sns.regplot(xs['H1'], xs['H2'], scatter = False,\n",
    "    fit_reg = True, color = 'blue', label=\"Human v Human\", line_kws={'linewidth':.75})\n",
    "ax.set_xlabel('')\n",
    "ax.set_ylabel('')\n",
    "ax.set(xlim=(-20,20), ylim=(-20, 20), title='Mean position')\n",
    "ax.tick_params(axis=\"both\",direction=\"in\")\n",
    "ax.legend()\n",
    "sns.despine(offset=10)\n",
    "#plt.savefig('C:/Users/Emily/Desktop/NPScreen_figs/HvO_mnX.svg')"
   ]
  },
  {
   "cell_type": "markdown",
   "id": "external-deficit",
   "metadata": {},
   "source": [
    "5. Plotting the residiuals for the regression above"
   ]
  },
  {
   "cell_type": "code",
   "execution_count": 239,
   "id": "greater-austria",
   "metadata": {
    "scrolled": true
   },
   "outputs": [
    {
     "data": {
      "image/png": "[encoded data removed]",
      "text/plain": [
       "<Figure size 288x216 with 2 Axes>"
      ]
     },
     "metadata": {
      "needs_background": "light"
     },
     "output_type": "display_data"
    }
   ],
   "source": [
    "fig, (ax1, ax2) = plt.subplots(figsize=(4,3), nrows=2, ncols=1)\n",
    "\n",
    "sns.residplot(long['Human'], long['OWL'], ax=ax1, scatter_kws={'s':4})\n",
    "ax1.set_ylabel('Residuals')\n",
    "ax1.set_xlabel('Human v OWL')\n",
    "ax1.set_ylim(-10,10)\n",
    "ax1.set_xlim(-20,20)\n",
    "ax1.tick_params(axis='both',direction=\"in\")\n",
    "\n",
    "sns.residplot(xs['H1'], xs['H2'], ax=ax2, scatter_kws={'s':4})\n",
    "\n",
    "ax2.set_ylabel('Residuals')\n",
    "ax2.set_xlabel('Human v Human')\n",
    "ax2.set_ylim(-10,10)\n",
    "ax2.set_xlim(-20,20)\n",
    "ax2.tick_params(axis='both',direction=\"in\")\n",
    "\n",
    "\n",
    "sns.despine(offset=10)\n",
    "fig.tight_layout()\n",
    "plt.savefig('C:/Users/Emily/Desktop/NPScreen_figs/HvO_mnX_resids_smoosh.svg')\n",
    "\n"
   ]
  },
  {
   "cell_type": "markdown",
   "id": "liberal-canon",
   "metadata": {},
   "source": [
    "## Density curves comparing worm locations identified by H1, H2 and OWL"
   ]
  },
  {
   "cell_type": "code",
   "execution_count": 25,
   "id": "signed-message",
   "metadata": {},
   "outputs": [],
   "source": [
    "subs = ['loc_S1_005_1C', 'loc_S1_010_2D', 'loc_S1_004_2D', 'loc_S1_004_2B']\n",
    "subs_df = combined.loc[combined['FileName'].isin(subs)]"
   ]
  },
  {
   "cell_type": "code",
   "execution_count": 68,
   "id": "offensive-fossil",
   "metadata": {
    "scrolled": false
   },
   "outputs": [
    {
     "name": "stdout",
     "output_type": "stream",
     "text": [
      "280\n"
     ]
    }
   ],
   "source": [
    "x = subs_df.loc[(subs_df['Counter']=='H2') & (subs_df['FileName']=='loc_S1_010_2D')]\n",
    "print(len(x))"
   ]
  },
  {
   "cell_type": "code",
   "execution_count": 231,
   "id": "boolean-notion",
   "metadata": {},
   "outputs": [],
   "source": [
    "def plot_dists(dat, comp):\n",
    "    \n",
    "    fig, ax = plt.subplots(figsize=(4,4))\n",
    "    sns.kdeplot(data=dat, x=\"X\", hue=\"Counter\", fill=True, multiple=\"layer\", alpha=.5, palette=\"mako\").set(title = comp, \n",
    "                xlim = (50,-50))\n",
    "\n",
    "    sns.despine(offset=10)\n",
    "    plt.tick_params(axis=\"both\",direction=\"in\")\n",
    "    start, end = ax.get_ylim()\n",
    "    plt.xticks(np.arange(-50, 51, 25))\n",
    "    plt.yticks(np.arange(start, round(end, 4)+.001, .002))\n",
    "\n",
    "    plt.rcParams['svg.fonttype'] = 'none'\n",
    "    plt.tight_layout()\n",
    "    plt.savefig('C:/Users/Emily/Desktop/UL_analysis/' + comp + '_dist.svg')"
   ]
  },
  {
   "cell_type": "code",
   "execution_count": 232,
   "id": "employed-highway",
   "metadata": {},
   "outputs": [
    {
     "data": {
      "image/png": "[encoded data removed]",
      "text/plain": [
       "<Figure size 288x288 with 1 Axes>"
      ]
     },
     "metadata": {
      "needs_background": "light"
     },
     "output_type": "display_data"
    }
   ],
   "source": [
    "ia = combined.loc[combined['FileName'] == 'loc_S1_005_1C']\n",
    "dmso = combined.loc[combined['FileName'] == 'loc_S1_004_2D']\n",
    "oc = combined.loc[combined['FileName'] == 'loc_S1_010_2D']\n",
    "\n",
    "plot_dists(ia, 'Isoamyl alcohol')\n",
    "\n",
    "\n",
    "\n",
    "#sns.kdeplot(data=ia, x=\"X\", hue=\"Counter\", multiple='layer', fill=True, palette=\"mako\").set( \n",
    "#                xlim = (50,-50))"
   ]
  },
  {
   "cell_type": "code",
   "execution_count": 229,
   "id": "cloudy-suggestion",
   "metadata": {
    "scrolled": false
   },
   "outputs": [
    {
     "data": {
      "image/png": "[encoded data removed]",
      "text/plain": [
       "<Figure size 288x288 with 1 Axes>"
      ]
     },
     "metadata": {
      "needs_background": "light"
     },
     "output_type": "display_data"
    }
   ],
   "source": [
    "plot_dists(dmso, 'DMSO')"
   ]
  },
  {
   "cell_type": "code",
   "execution_count": 230,
   "id": "adjacent-greeting",
   "metadata": {
    "scrolled": false
   },
   "outputs": [
    {
     "data": {
      "image/png": "[encoded data removed]",
      "text/plain": [
       "<Figure size 288x288 with 1 Axes>"
      ]
     },
     "metadata": {
      "needs_background": "light"
     },
     "output_type": "display_data"
    }
   ],
   "source": [
    "plot_dists(oc, '1-octanol')"
   ]
  },
  {
   "cell_type": "code",
   "execution_count": null,
   "id": "adjacent-optimum",
   "metadata": {},
   "outputs": [],
   "source": []
  }
 ],
 "metadata": {
  "kernelspec": {
   "display_name": "Python 3 (ipykernel)",
   "language": "python",
   "name": "python3"
  },
  "language_info": {
   "codemirror_mode": {
    "name": "ipython",
    "version": 3
   },
   "file_extension": ".py",
   "mimetype": "text/x-python",
   "name": "python",
   "nbconvert_exporter": "python",
   "pygments_lexer": "ipython3",
   "version": "3.7.12"
  }
 },
 "nbformat": 4,
 "nbformat_minor": 5
}
