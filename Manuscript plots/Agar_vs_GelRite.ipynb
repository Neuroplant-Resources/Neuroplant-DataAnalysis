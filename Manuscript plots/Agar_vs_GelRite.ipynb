{
 "cells": [
  {
   "cell_type": "markdown",
   "metadata": {},
   "source": [
    "### Assessing difference in contrast for scanned images of agar vs GelRite\n",
    "We wanted to see if there is a quantifiable difference in the quality of the images obtained using agar media vs GelRite. If there is not sufficient contrast in the images, then the worm counting algorithm has a difficult time identifying individual worms in the images."
   ]
  },
  {
   "cell_type": "code",
   "execution_count": 1,
   "metadata": {},
   "outputs": [],
   "source": [
    "import matplotlib.pyplot as plt\n",
    "import numpy as np\n",
    "import pandas as pd\n",
    "from skimage.io import imread, imshow\n",
    "from skimage.util import crop\n",
    "from skimage import data\n",
    "from skimage.filters import threshold_otsu\n",
    "from skimage.segmentation import clear_border\n",
    "from skimage.measure import label, regionprops, regionprops_table\n",
    "from skimage.color import label2rgb\n",
    "from skimage import measure\n",
    "from skimage.morphology import closing, square, remove_small_objects\n",
    "from tifffile import imsave\n",
    "import seaborn as sns\n"
   ]
  },
  {
   "cell_type": "markdown",
   "metadata": {},
   "source": [
    "## Upload the image files"
   ]
  },
  {
   "cell_type": "code",
   "execution_count": 47,
   "metadata": {},
   "outputs": [],
   "source": [
    "Agr_path ='C:/Users/Emily/Desktop/NPScreen_figs/Images/Agr_crop.tif'\n",
    "GRT_path = 'C:/Users/Emily/Desktop/NPScreen_figs/Images/GRT_crop.tif'"
   ]
  },
  {
   "cell_type": "markdown",
   "metadata": {},
   "source": [
    "### Creating a function to binarize the image based on the thresholding value."
   ]
  },
  {
   "cell_type": "code",
   "execution_count": 48,
   "metadata": {},
   "outputs": [],
   "source": [
    "def bin_im(img):\n",
    "    image=imread(img)\n",
    "    thresh = threshold_otsu(image)\n",
    "    bw = closing(image > thresh, square(3))\n",
    "    return image, bw\n"
   ]
  },
  {
   "cell_type": "markdown",
   "metadata": {},
   "source": [
    "### Creating a function to plot a histogram of pixel intensities for each well"
   ]
  },
  {
   "cell_type": "code",
   "execution_count": 1,
   "metadata": {},
   "outputs": [],
   "source": [
    "def plot_hist(raw, med):\n",
    "    fig, axes = plt.subplots(figsize=(6,2))\n",
    "    axes = sns.histplot(raw.ravel(), kde=False, ax=axes, stat='count', bins=256 )\n",
    "    axes.set_ylim(0,150000)\n",
    "    axes.get_yaxis().set_visible(False)\n",
    "    axes.xaxis.set_tick_params(length=0)\n",
    "    axes.xaxis.set_ticks_position('bottom')\n",
    "    axes.set_xticks([0,125,255])\n",
    "\n",
    "    axes.set_xlabel('Pixel intensity')\n",
    "    axes.set_anchor('W')\n",
    "    #plt.rcParams['svg.fonttype'] = 'none'\n",
    "    sns.despine()\n",
    "    #plt.show()\n",
    "    plt.savefig('C:/Users/Emily/Desktop/NPScreen_figs/Images/' + media + '_hist_analysis.svg')\n"
   ]
  },
  {
   "cell_type": "markdown",
   "metadata": {},
   "source": [
    "### Displaying the binarized images of agar and GelRite media"
   ]
  },
  {
   "cell_type": "code",
   "execution_count": 122,
   "metadata": {},
   "outputs": [],
   "source": [
    "def plot_binned_im(bw, med):\n",
    "    fig, axes = plt.subplots()\n",
    "    plt.imshow(bw, cmap='gray')\n",
    "    axes.set_anchor('W')\n",
    "    plt.autoscale(False)\n",
    "    #plt.rcParams['svg.fonttype'] = 'none'\n",
    "    plt.axis('off')\n",
    "    plt.savefig('C:/Users/Emily/Desktop/NPScreen_figs/Images/' + media + '_bw_img.svg')"
   ]
  },
  {
   "cell_type": "code",
   "execution_count": null,
   "metadata": {},
   "outputs": [],
   "source": [
    "### Looping through and plotting the histograms and binarized images\n",
    "im_list = [Agr_path, GRT_path]\n",
    "\n",
    "\n",
    "for im in im_list:\n",
    "    rw, binned = bin_im(im)\n",
    "    media = im[-12:-9]\n",
    "    plot_binned_im(binned, media)\n",
    "    plot_hist(rw, media)"
   ]
  }
 ],
 "metadata": {
  "kernelspec": {
   "display_name": "Python 3",
   "language": "python",
   "name": "python3"
  },
  "language_info": {
   "codemirror_mode": {
    "name": "ipython",
    "version": 3
   },
   "file_extension": ".py",
   "mimetype": "text/x-python",
   "name": "python",
   "nbconvert_exporter": "python",
   "pygments_lexer": "ipython3",
   "version": "3.7.4"
  }
 },
 "nbformat": 4,
 "nbformat_minor": 4
}
