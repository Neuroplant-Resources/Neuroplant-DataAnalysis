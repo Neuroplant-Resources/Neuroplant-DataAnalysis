{
 "cells": [
  {
   "cell_type": "code",
   "execution_count": 1,
   "id": "56036160",
   "metadata": {},
   "outputs": [],
   "source": [
    "import numpy as np\n",
    "import pandas as pd\n",
    "import matplotlib.pyplot as plt\n",
    "import seaborn as sns"
   ]
  },
  {
   "cell_type": "code",
   "execution_count": 2,
   "id": "0d4f7c2e",
   "metadata": {
    "scrolled": true
   },
   "outputs": [
    {
     "data": {
      "text/html": [
       "<div>\n",
       "<style scoped>\n",
       "    .dataframe tbody tr th:only-of-type {\n",
       "        vertical-align: middle;\n",
       "    }\n",
       "\n",
       "    .dataframe tbody tr th {\n",
       "        vertical-align: top;\n",
       "    }\n",
       "\n",
       "    .dataframe thead th {\n",
       "        text-align: right;\n",
       "    }\n",
       "</style>\n",
       "<table border=\"1\" class=\"dataframe\">\n",
       "  <thead>\n",
       "    <tr style=\"text-align: right;\">\n",
       "      <th></th>\n",
       "      <th>GN1077</th>\n",
       "      <th>PR678</th>\n",
       "      <th>CX10</th>\n",
       "    </tr>\n",
       "    <tr>\n",
       "      <th>test</th>\n",
       "      <th></th>\n",
       "      <th></th>\n",
       "      <th></th>\n",
       "    </tr>\n",
       "  </thead>\n",
       "  <tbody>\n",
       "    <tr>\n",
       "      <th>Isoamyl alcohol</th>\n",
       "      <td>-15.318320</td>\n",
       "      <td>-10.806082</td>\n",
       "      <td>-2.779660</td>\n",
       "    </tr>\n",
       "    <tr>\n",
       "      <th>2-Methyl-1-butanol</th>\n",
       "      <td>-13.802287</td>\n",
       "      <td>-9.989616</td>\n",
       "      <td>-0.928199</td>\n",
       "    </tr>\n",
       "    <tr>\n",
       "      <th>Thiophene</th>\n",
       "      <td>-11.082088</td>\n",
       "      <td>-6.835087</td>\n",
       "      <td>-8.194683</td>\n",
       "    </tr>\n",
       "    <tr>\n",
       "      <th>2,3-Dihydrobenzofuran</th>\n",
       "      <td>-10.619060</td>\n",
       "      <td>-2.403412</td>\n",
       "      <td>0.541383</td>\n",
       "    </tr>\n",
       "    <tr>\n",
       "      <th>Diacetyl</th>\n",
       "      <td>-8.572018</td>\n",
       "      <td>4.004894</td>\n",
       "      <td>-4.020943</td>\n",
       "    </tr>\n",
       "  </tbody>\n",
       "</table>\n",
       "</div>"
      ],
      "text/plain": [
       "                          GN1077      PR678      CX10\n",
       "test                                                 \n",
       "Isoamyl alcohol       -15.318320 -10.806082 -2.779660\n",
       "2-Methyl-1-butanol    -13.802287  -9.989616 -0.928199\n",
       "Thiophene             -11.082088  -6.835087 -8.194683\n",
       "2,3-Dihydrobenzofuran -10.619060  -2.403412  0.541383\n",
       "Diacetyl               -8.572018   4.004894 -4.020943"
      ]
     },
     "execution_count": 2,
     "metadata": {},
     "output_type": "execute_result"
    }
   ],
   "source": [
    "data = pd.read_csv('/Users/Emily/Desktop/ReviewerResponses/dd_allLines.csv', index_col=0)\n",
    "data = data.sort_values(by='GN1077')\n",
    "d = data.set_index('test')\n",
    "d.head()"
   ]
  },
  {
   "cell_type": "code",
   "execution_count": 3,
   "id": "e26ff675",
   "metadata": {},
   "outputs": [],
   "source": [
    "ds = d.apply(lambda x: x*-1)"
   ]
  },
  {
   "cell_type": "code",
   "execution_count": 4,
   "id": "74f3a113",
   "metadata": {
    "scrolled": true
   },
   "outputs": [],
   "source": [
    "fig, ax = plt.subplots(figsize=(5,20))\n",
    "sns.heatmap(ds,  vmax=15, vmin=-15, center=0, cmap='vlag', square=True)\n",
    "ax.tick_params(bottom=False, left=False)\n",
    "plt.xticks(rotation=90)\n",
    "#plt.tight_layout()\n",
    "plt.rcParams['svg.fonttype'] = 'none'\n",
    "plt.savefig('/Users/Emily/Desktop/ReviewerResponses/hmap_ogsort.svg')"
   ]
  },
  {
   "cell_type": "code",
   "execution_count": 122,
   "id": "41b44ce1",
   "metadata": {},
   "outputs": [],
   "source": [
    "# Compounnds where the CIs between CX10 and GN1077 are \"the same\"\n",
    "# This implies that the N2 behavior was lost and is dependent on the osm-9 ion channel\n",
    "cxdep = ['(-)-Huperzine A',\n",
    "'1-octanol',\n",
    "'2,5-Dihydroxybenzoic acid',\n",
    "'2-nonanone',\n",
    "'Cinnamyl Alcohol',\n",
    "'Daucosterol',\n",
    "'Ursolic acid',\n",
    "'Guaiazulene',\n",
    "'Leonurine',\n",
    "'Oleanolic Acid',\n",
    "'Salvinorin A Propionate',\n",
    "'Sinomenine hydrochloride',\n",
    "'Solasodine']\n",
    "\n",
    "cxdep_df = data[data['test'].isin(cxdep)].sort_values(by='GN1077')"
   ]
  },
  {
   "cell_type": "code",
   "execution_count": 123,
   "id": "5626b784",
   "metadata": {},
   "outputs": [],
   "source": [
    "# Compounnds where the CIs between PR678 and GN1077 are \"the same\"\n",
    "# This implies that the N2 behavior is lost and is dependent on the tax-4 ion channel\n",
    "prdep = ['Acetophenone',\n",
    "'Furfural',\n",
    "'p-Tolualdehyde']\n",
    "\n",
    "prdep_df = data[data['test'].isin(prdep)].sort_values(by='GN1077')"
   ]
  },
  {
   "cell_type": "code",
   "execution_count": 124,
   "id": "919c6bd0",
   "metadata": {},
   "outputs": [],
   "source": [
    "not_same=[]\n",
    "not_same = cxdep + prdep"
   ]
  },
  {
   "cell_type": "code",
   "execution_count": 125,
   "id": "768b7c26",
   "metadata": {},
   "outputs": [],
   "source": [
    "## These are compounds for which the CIs between PR678 and CX10 are the \"same.\n",
    "## Compounds that were the same as GN1077 have already been removed from this list\n",
    "## All of the compounds on this list have retained some behvioral phenotype\n",
    "\n",
    "same = ['Anisole',\n",
    "'Camphor',\n",
    "'Coumaran',\n",
    "'Ethyl p-methoxycinnamate',\n",
    "'Ethyl palmitate',\n",
    "'H2O',\n",
    "'Isoquinoline',\n",
    "'L-Mimosine',\n",
    "'Limonin',\n",
    "'Methyl palmitate',\n",
    "'Paeoniflorin',\n",
    "'Piperitenone',\n",
    "'Sabinene',\n",
    "'Spinosad',\n",
    "'Thiophene',]\n",
    "\n",
    "both_df = data[data['test'].isin(same)].sort_values(by='GN1077')"
   ]
  },
  {
   "cell_type": "code",
   "execution_count": 126,
   "id": "d88f41fb",
   "metadata": {},
   "outputs": [],
   "source": [
    "# It is important to remember that the analysis so include\n",
    "# PR678 and CX10 same or different from N2\n",
    "# PR678 and CX10 same or different from GN1077\n",
    "# PR678 same or different from CX10\n",
    "\n",
    "\n",
    "h = []\n",
    "h = not_same + same"
   ]
  },
  {
   "cell_type": "code",
   "execution_count": 132,
   "id": "617c05c5",
   "metadata": {},
   "outputs": [],
   "source": [
    "all_others_df = data[~data['test'].isin(h)].sort_values(by='GN1077')"
   ]
  },
  {
   "cell_type": "code",
   "execution_count": 133,
   "id": "b8341749",
   "metadata": {},
   "outputs": [
    {
     "data": {
      "text/html": [
       "<div>\n",
       "<style scoped>\n",
       "    .dataframe tbody tr th:only-of-type {\n",
       "        vertical-align: middle;\n",
       "    }\n",
       "\n",
       "    .dataframe tbody tr th {\n",
       "        vertical-align: top;\n",
       "    }\n",
       "\n",
       "    .dataframe thead th {\n",
       "        text-align: right;\n",
       "    }\n",
       "</style>\n",
       "<table border=\"1\" class=\"dataframe\">\n",
       "  <thead>\n",
       "    <tr style=\"text-align: right;\">\n",
       "      <th></th>\n",
       "      <th>GN1077</th>\n",
       "      <th>PR678</th>\n",
       "      <th>CX10</th>\n",
       "      <th>test</th>\n",
       "    </tr>\n",
       "  </thead>\n",
       "  <tbody>\n",
       "    <tr>\n",
       "      <th>20</th>\n",
       "      <td>-15.318320</td>\n",
       "      <td>-10.806082</td>\n",
       "      <td>-2.779660</td>\n",
       "      <td>Isoamyl alcohol</td>\n",
       "    </tr>\n",
       "    <tr>\n",
       "      <th>4</th>\n",
       "      <td>-13.802287</td>\n",
       "      <td>-9.989616</td>\n",
       "      <td>-0.928199</td>\n",
       "      <td>2-Methyl-1-butanol</td>\n",
       "    </tr>\n",
       "    <tr>\n",
       "      <th>2</th>\n",
       "      <td>-10.619060</td>\n",
       "      <td>-2.403412</td>\n",
       "      <td>0.541383</td>\n",
       "      <td>2,3-Dihydrobenzofuran</td>\n",
       "    </tr>\n",
       "    <tr>\n",
       "      <th>13</th>\n",
       "      <td>-8.572018</td>\n",
       "      <td>4.004894</td>\n",
       "      <td>-4.020943</td>\n",
       "      <td>Diacetyl</td>\n",
       "    </tr>\n",
       "    <tr>\n",
       "      <th>29</th>\n",
       "      <td>-7.810270</td>\n",
       "      <td>-3.117836</td>\n",
       "      <td>-0.793816</td>\n",
       "      <td>Phenylacetylene</td>\n",
       "    </tr>\n",
       "    <tr>\n",
       "      <th>41</th>\n",
       "      <td>-6.445880</td>\n",
       "      <td>-2.724380</td>\n",
       "      <td>-3.067559</td>\n",
       "      <td>α-Phellandrene</td>\n",
       "    </tr>\n",
       "    <tr>\n",
       "      <th>23</th>\n",
       "      <td>-4.266322</td>\n",
       "      <td>1.004545</td>\n",
       "      <td>-1.994078</td>\n",
       "      <td>Lapachol</td>\n",
       "    </tr>\n",
       "    <tr>\n",
       "      <th>32</th>\n",
       "      <td>-4.102522</td>\n",
       "      <td>0.564229</td>\n",
       "      <td>-6.562025</td>\n",
       "      <td>Piperonyl Alcohol</td>\n",
       "    </tr>\n",
       "    <tr>\n",
       "      <th>9</th>\n",
       "      <td>-2.899180</td>\n",
       "      <td>4.195013</td>\n",
       "      <td>-0.856415</td>\n",
       "      <td>Carnosol</td>\n",
       "    </tr>\n",
       "    <tr>\n",
       "      <th>14</th>\n",
       "      <td>2.745438</td>\n",
       "      <td>7.484343</td>\n",
       "      <td>4.738386</td>\n",
       "      <td>Ellagic acid</td>\n",
       "    </tr>\n",
       "    <tr>\n",
       "      <th>30</th>\n",
       "      <td>4.455973</td>\n",
       "      <td>10.410813</td>\n",
       "      <td>6.753860</td>\n",
       "      <td>Phytol</td>\n",
       "    </tr>\n",
       "  </tbody>\n",
       "</table>\n",
       "</div>"
      ],
      "text/plain": [
       "       GN1077      PR678      CX10                   test\n",
       "20 -15.318320 -10.806082 -2.779660        Isoamyl alcohol\n",
       "4  -13.802287  -9.989616 -0.928199     2-Methyl-1-butanol\n",
       "2  -10.619060  -2.403412  0.541383  2,3-Dihydrobenzofuran\n",
       "13  -8.572018   4.004894 -4.020943               Diacetyl\n",
       "29  -7.810270  -3.117836 -0.793816        Phenylacetylene\n",
       "41  -6.445880  -2.724380 -3.067559         α-Phellandrene\n",
       "23  -4.266322   1.004545 -1.994078               Lapachol\n",
       "32  -4.102522   0.564229 -6.562025      Piperonyl Alcohol\n",
       "9   -2.899180   4.195013 -0.856415               Carnosol\n",
       "14   2.745438   7.484343  4.738386           Ellagic acid\n",
       "30   4.455973  10.410813  6.753860                 Phytol"
      ]
     },
     "execution_count": 133,
     "metadata": {},
     "output_type": "execute_result"
    }
   ],
   "source": [
    "all_others_df"
   ]
  },
  {
   "cell_type": "code",
   "execution_count": 135,
   "id": "504ec4fc",
   "metadata": {},
   "outputs": [
    {
     "name": "stdout",
     "output_type": "stream",
     "text": [
      "42\n"
     ]
    }
   ],
   "source": [
    "sorted_df = pd.DataFrame()\n",
    "sorted_df = cxdep_df.append([prdep_df, both_df, all_others_df])\n",
    "sdf = sorted_df.set_index('test')\n",
    "print(len(sdf))"
   ]
  },
  {
   "cell_type": "code",
   "execution_count": 136,
   "id": "5b539df2",
   "metadata": {},
   "outputs": [
    {
     "name": "stdout",
     "output_type": "stream",
     "text": [
      "42\n"
     ]
    }
   ],
   "source": [
    "sd = sdf.apply(lambda x: x*-1)\n",
    "print(len(sd))"
   ]
  },
  {
   "cell_type": "code",
   "execution_count": 137,
   "id": "a51f4ca0",
   "metadata": {},
   "outputs": [],
   "source": [
    "fig, ax = plt.subplots(figsize=(5,20))\n",
    "sns.heatmap(sd,  vmax=15, vmin=-15, center=0, cmap='vlag', square=True)\n",
    "ax.tick_params(bottom=False, left=False)\n",
    "plt.xticks(rotation=90)\n",
    "#plt.tight_layout()\n",
    "plt.rcParams['svg.fonttype'] = 'none'\n",
    "plt.savefig('/Users/Emily/Desktop/ReviewerResponses/ddHeatmap_bins.svg')"
   ]
  },
  {
   "cell_type": "code",
   "execution_count": null,
   "id": "38c092eb",
   "metadata": {},
   "outputs": [],
   "source": []
  }
 ],
 "metadata": {
  "kernelspec": {
   "display_name": "Python 3",
   "language": "python",
   "name": "python3"
  },
  "language_info": {
   "codemirror_mode": {
    "name": "ipython",
    "version": 3
   },
   "file_extension": ".py",
   "mimetype": "text/x-python",
   "name": "python",
   "nbconvert_exporter": "python",
   "pygments_lexer": "ipython3",
   "version": "3.7.4"
  }
 },
 "nbformat": 4,
 "nbformat_minor": 5
}
