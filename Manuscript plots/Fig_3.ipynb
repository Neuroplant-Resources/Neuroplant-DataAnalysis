{
 "cells": [
  {
   "cell_type": "markdown",
   "metadata": {},
   "source": [
    "## Plotting mean X position of all worms against Chemotaxis Index"
   ]
  },
  {
   "cell_type": "code",
   "execution_count": 1,
   "metadata": {},
   "outputs": [
    {
     "name": "stderr",
     "output_type": "stream",
     "text": [
      "C:\\Users\\Emily\\miniconda3\\envs\\neuroplant\\lib\\site-packages\\statsmodels\\tools\\_testing.py:19: FutureWarning: pandas.util.testing is deprecated. Use the functions in the public API at pandas.testing instead.\n",
      "  import pandas.util.testing as tm\n"
     ]
    }
   ],
   "source": [
    "import pandas as pd\n",
    "import numpy as np\n",
    "import seaborn as sb\n",
    "from matplotlib import pyplot as plt\n",
    "import pathlib as plb\n",
    "from statistics import mean\n",
    "from scipy import stats\n",
    "from mpl_toolkits.axes_grid1.inset_locator import inset_axes\n",
    "import matplotlib as mpl\n",
    "import statsmodels.api as sm\n"
   ]
  },
  {
   "cell_type": "markdown",
   "metadata": {},
   "source": [
    "### Loading in the data\n",
    "Data needed:\n",
    "1. S1means_df.csv: Unblinded image analysis data from Screen 1 with mean position for each replicate\n",
    "2. S1_xs.csv: all of the worms and their positions for each replicate from each condition"
   ]
  },
  {
   "cell_type": "code",
   "execution_count": 4,
   "metadata": {},
   "outputs": [
    {
     "data": {
      "text/html": [
       "<div>\n",
       "<style scoped>\n",
       "    .dataframe tbody tr th:only-of-type {\n",
       "        vertical-align: middle;\n",
       "    }\n",
       "\n",
       "    .dataframe tbody tr th {\n",
       "        vertical-align: top;\n",
       "    }\n",
       "\n",
       "    .dataframe thead th {\n",
       "        text-align: right;\n",
       "    }\n",
       "</style>\n",
       "<table border=\"1\" class=\"dataframe\">\n",
       "  <thead>\n",
       "    <tr style=\"text-align: right;\">\n",
       "      <th></th>\n",
       "      <th>WellNo</th>\n",
       "      <th>Total Worms</th>\n",
       "      <th>Chemotaxis</th>\n",
       "      <th>Compound</th>\n",
       "      <th>File Name</th>\n",
       "      <th>Well width</th>\n",
       "      <th>Plate ID</th>\n",
       "      <th>MeanPos</th>\n",
       "      <th>MeanPos_mm</th>\n",
       "    </tr>\n",
       "  </thead>\n",
       "  <tbody>\n",
       "    <tr>\n",
       "      <th>0</th>\n",
       "      <td>3A</td>\n",
       "      <td>229.0</td>\n",
       "      <td>-0.265957</td>\n",
       "      <td>5-Aminolevulinic acid (hydrochloride)</td>\n",
       "      <td>S1_002</td>\n",
       "      <td>3058.0</td>\n",
       "      <td>S1_R1_7</td>\n",
       "      <td>1774.034934</td>\n",
       "      <td>-5.050406</td>\n",
       "    </tr>\n",
       "    <tr>\n",
       "      <th>1</th>\n",
       "      <td>3B</td>\n",
       "      <td>275.0</td>\n",
       "      <td>-0.125541</td>\n",
       "      <td>Alyssin</td>\n",
       "      <td>S1_002</td>\n",
       "      <td>3065.0</td>\n",
       "      <td>S1_R1_7</td>\n",
       "      <td>1662.763636</td>\n",
       "      <td>-2.695164</td>\n",
       "    </tr>\n",
       "    <tr>\n",
       "      <th>2</th>\n",
       "      <td>3C</td>\n",
       "      <td>231.0</td>\n",
       "      <td>-0.353535</td>\n",
       "      <td>Methyl palmitate</td>\n",
       "      <td>S1_002</td>\n",
       "      <td>3043.0</td>\n",
       "      <td>S1_R1_7</td>\n",
       "      <td>1803.086580</td>\n",
       "      <td>-5.665333</td>\n",
       "    </tr>\n",
       "    <tr>\n",
       "      <th>3</th>\n",
       "      <td>3D</td>\n",
       "      <td>221.0</td>\n",
       "      <td>-0.255814</td>\n",
       "      <td>Safranal</td>\n",
       "      <td>S1_002</td>\n",
       "      <td>3075.0</td>\n",
       "      <td>S1_R1_7</td>\n",
       "      <td>1739.389140</td>\n",
       "      <td>-4.317070</td>\n",
       "    </tr>\n",
       "    <tr>\n",
       "      <th>4</th>\n",
       "      <td>4A</td>\n",
       "      <td>270.0</td>\n",
       "      <td>-0.176991</td>\n",
       "      <td>Spinosad</td>\n",
       "      <td>S1_002</td>\n",
       "      <td>3051.0</td>\n",
       "      <td>S1_R1_8</td>\n",
       "      <td>1665.633333</td>\n",
       "      <td>-2.755906</td>\n",
       "    </tr>\n",
       "  </tbody>\n",
       "</table>\n",
       "</div>"
      ],
      "text/plain": [
       "  WellNo  Total Worms  Chemotaxis                               Compound  \\\n",
       "0     3A        229.0   -0.265957  5-Aminolevulinic acid (hydrochloride)   \n",
       "1     3B        275.0   -0.125541                                Alyssin   \n",
       "2     3C        231.0   -0.353535                       Methyl palmitate   \n",
       "3     3D        221.0   -0.255814                               Safranal   \n",
       "4     4A        270.0   -0.176991                               Spinosad   \n",
       "\n",
       "  File Name  Well width Plate ID      MeanPos  MeanPos_mm  \n",
       "0    S1_002      3058.0  S1_R1_7  1774.034934   -5.050406  \n",
       "1    S1_002      3065.0  S1_R1_7  1662.763636   -2.695164  \n",
       "2    S1_002      3043.0  S1_R1_7  1803.086580   -5.665333  \n",
       "3    S1_002      3075.0  S1_R1_7  1739.389140   -4.317070  \n",
       "4    S1_002      3051.0  S1_R1_8  1665.633333   -2.755906  "
      ]
     },
     "execution_count": 4,
     "metadata": {},
     "output_type": "execute_result"
    }
   ],
   "source": [
    "metadata = pd.read_csv('/Users/Emily/Documents/S1/data_analysis/S1means_df.csv', index_col=0)\n",
    "s1_xs = pd.read_csv('/Users/Emily/Documents/S1/data_analysis/S1_xs.csv', index_col=0)"
   ]
  },
  {
   "cell_type": "markdown",
   "metadata": {},
   "source": [
    "### Creating numerical categories to visualize total worm counts"
   ]
  },
  {
   "cell_type": "code",
   "execution_count": 4,
   "metadata": {},
   "outputs": [
    {
     "name": "stdout",
     "output_type": "stream",
     "text": [
      "288\n"
     ]
    }
   ],
   "source": [
    "# Generating a callable function\n",
    "def addSize(row):\n",
    "    if row['Total Worms'] <= 150:\n",
    "        size = 1\n",
    "    elif (row['Total Worms']>150) & (row['Total Worms']<=250):\n",
    "        size = 2\n",
    "    elif (row['Total Worms']>250) & (row['Total Worms']<=350):\n",
    "        size = 3\n",
    "    elif (row['Total Worms']>350) & (row['Total Worms']<=450):\n",
    "        size = 4\n",
    "    elif row['Total Worms']>450:\n",
    "        size = 5\n",
    "    return size\n",
    "\n",
    "#Iterating over the unblinded image analysis dataframe and adding categorical size data\n",
    "metadata['Size']=metadata.apply(\n",
    "    lambda row: addSize(row), axis=1)\n",
    "print(len(metadata))"
   ]
  },
  {
   "cell_type": "markdown",
   "metadata": {},
   "source": [
    "### Calculating stats for the linear model to generate the residual plot"
   ]
  },
  {
   "cell_type": "code",
   "execution_count": 5,
   "metadata": {
    "scrolled": false
   },
   "outputs": [
    {
     "name": "stdout",
     "output_type": "stream",
     "text": [
      "0.06060182448155039 -0.01831926987693218 0.9827804475458338 8.75518461405154e-212 0.0006737432369591764\n"
     ]
    }
   ],
   "source": [
    "slope, intercept, r_value, p_value, std_err = stats.linregress(metadata['MeanPos_mm'], metadata['Chemotaxis'])\n",
    "print(slope, intercept, r_value, p_value, std_err)"
   ]
  },
  {
   "cell_type": "code",
   "execution_count": 6,
   "metadata": {
    "scrolled": true
   },
   "outputs": [
    {
     "name": "stderr",
     "output_type": "stream",
     "text": [
      "C:\\Users\\Emily\\miniconda3\\envs\\neuroplant\\lib\\site-packages\\statsmodels\\tsa\\tsatools.py:117: FutureWarning: In a future version of pandas all arguments of concat except for the argument 'objs' will be keyword-only\n",
      "  x = pd.concat(x[::order], 1)\n"
     ]
    }
   ],
   "source": [
    "CI_Y = metadata['Chemotaxis']\n",
    "mean_X = metadata['MeanPos_mm']\n",
    "mean_X = sm.add_constant(mean_X)\n",
    "model = sm.OLS(CI_Y, mean_X).fit()"
   ]
  },
  {
   "cell_type": "code",
   "execution_count": 7,
   "metadata": {},
   "outputs": [
    {
     "name": "stdout",
     "output_type": "stream",
     "text": [
      "                            OLS Regression Results                            \n",
      "==============================================================================\n",
      "Dep. Variable:             Chemotaxis   R-squared:                       0.966\n",
      "Model:                            OLS   Adj. R-squared:                  0.966\n",
      "Method:                 Least Squares   F-statistic:                     8091.\n",
      "Date:                Wed, 10 Apr 2024   Prob (F-statistic):          8.76e-212\n",
      "Time:                        08:46:34   Log-Likelihood:                 471.99\n",
      "No. Observations:                 288   AIC:                            -940.0\n",
      "Df Residuals:                     286   BIC:                            -932.7\n",
      "Df Model:                           1                                         \n",
      "Covariance Type:            nonrobust                                         \n",
      "==============================================================================\n",
      "                 coef    std err          t      P>|t|      [0.025      0.975]\n",
      "------------------------------------------------------------------------------\n",
      "const         -0.0183      0.003     -6.272      0.000      -0.024      -0.013\n",
      "MeanPos_mm     0.0606      0.001     89.948      0.000       0.059       0.062\n",
      "==============================================================================\n",
      "Omnibus:                       19.310   Durbin-Watson:                   1.424\n",
      "Prob(Omnibus):                  0.000   Jarque-Bera (JB):               33.959\n",
      "Skew:                           0.395   Prob(JB):                     4.23e-08\n",
      "Kurtosis:                       4.485   Cond. No.                         4.58\n",
      "==============================================================================\n",
      "\n",
      "Warnings:\n",
      "[1] Standard Errors assume that the covariance matrix of the errors is correctly specified.\n"
     ]
    }
   ],
   "source": [
    "print(model.summary())"
   ]
  },
  {
   "cell_type": "code",
   "execution_count": 8,
   "metadata": {},
   "outputs": [
    {
     "name": "stdout",
     "output_type": "stream",
     "text": [
      "const        -0.018319\n",
      "MeanPos_mm    0.060602\n",
      "dtype: float64\n"
     ]
    }
   ],
   "source": [
    "print(model.params)"
   ]
  },
  {
   "cell_type": "code",
   "execution_count": 9,
   "metadata": {},
   "outputs": [
    {
     "name": "stderr",
     "output_type": "stream",
     "text": [
      "C:\\Users\\Emily\\miniconda3\\envs\\neuroplant\\lib\\site-packages\\seaborn\\_decorators.py:43: FutureWarning: Pass the following variables as keyword args: x, y. From version 0.12, the only valid positional argument will be `data`, and passing other arguments without an explicit keyword will result in an error or misinterpretation.\n",
      "  FutureWarning\n",
      "C:\\Users\\Emily\\miniconda3\\envs\\neuroplant\\lib\\site-packages\\seaborn\\_decorators.py:43: FutureWarning: Pass the following variables as keyword args: x, y. From version 0.12, the only valid positional argument will be `data`, and passing other arguments without an explicit keyword will result in an error or misinterpretation.\n",
      "  FutureWarning\n"
     ]
    },
    {
     "data": {
      "image/png": "[encoded data removed]",
      "text/plain": [
       "<Figure size 500x700 with 2 Axes>"
      ]
     },
     "metadata": {},
     "output_type": "display_data"
    }
   ],
   "source": [
    "\n",
    "\n",
    "sb.set(style='ticks')\n",
    "gridkw = dict(height_ratios=[.25, 1])\n",
    "fig, (ax1, ax2) = plt.subplots(2, 1, gridspec_kw=gridkw, sharex=True, figsize=(5,7))\n",
    "\n",
    "#Plotting the residual data within the inset axes\n",
    "sb.residplot(x=metadata['MeanPos_mm'], y=metadata['Chemotaxis'], ax=ax1, scatter_kws={'s':2})\n",
    "\n",
    "             \n",
    "ax1.axhline(y=0, ls='--', c='gray')\n",
    "ax1.set(xlim = (-15, 15.5))\n",
    "ax1.set_ylabel('Residuals')\n",
    "ax1.set_xlabel('')\n",
    "ax1.tick_params(axis=\"both\",direction=\"in\")\n",
    "\n",
    "\n",
    "# Scatterplot of Mean Position by X \n",
    "sb.scatterplot(metadata['MeanPos_mm'],metadata['Chemotaxis'], palette='colorblind',\n",
    "       alpha = .8,ax=ax2, s=15)\n",
    "# Overlay the regression\n",
    "sb.regplot(metadata['MeanPos_mm'], metadata['Chemotaxis'], scatter = False,\n",
    "    fit_reg = True, color = 'black', line_kws={'linewidth':.75}, ax=ax2)\n",
    "\n",
    "ax2.set(ylim = (-.8, .8)) \n",
    "ax2.set(xlim = (-15, 15.5))\n",
    "ax2.axhline(y=0, ls='--', c='gray')\n",
    "ax2.axvline(x=0, ls='--', c='gray')\n",
    "\n",
    "ax2.set_xlabel('Mean position (mm)')\n",
    "ax2.set_ylabel('Chemotaxis Index')\n",
    "ax2.tick_params(axis=\"both\",direction=\"in\")\n",
    "\n",
    "\n",
    "plt.rcParams['svg.fonttype'] = 'none'\n",
    "fig.subplots_adjust(hspace=.05, left=.2)\n",
    "plt.show()\n",
    "#fig.savefig('C:/Users/Emily/Desktop/NPScreen_figs/stacked_CI_X.svg', dpi=300)"
   ]
  },
  {
   "cell_type": "code",
   "execution_count": null,
   "metadata": {},
   "outputs": [],
   "source": []
  }
 ],
 "metadata": {
  "kernelspec": {
   "display_name": "Python 3 (ipykernel)",
   "language": "python",
   "name": "python3"
  },
  "language_info": {
   "codemirror_mode": {
    "name": "ipython",
    "version": 3
   },
   "file_extension": ".py",
   "mimetype": "text/x-python",
   "name": "python",
   "nbconvert_exporter": "python",
   "pygments_lexer": "ipython3",
   "version": "3.7.12"
  }
 },
 "nbformat": 4,
 "nbformat_minor": 2
}
